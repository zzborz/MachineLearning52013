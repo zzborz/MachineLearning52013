{
 "cells": [
  {
   "cell_type": "markdown",
   "source": [
    "Pandas 是非常著名的开源数据处理库，其基于 NumPy 开发，该工具是 Scipy 生态中为了解决数据分析任务而设计。Pandas 纳入了大量库和一些标准的数据模型，提供了高效地操作大型数据集所需的函数和方法。\n",
    "\n",
    "特有的数据结构是 Pandas 的优势和核心。简单来讲，我们可以将任意格式的数据转换为 Pandas 的数据类型，并使用 Pandas 提供的一系列方法进行转换、操作，最终得到我们期望的结果。\n",
    "\n",
    "所以，我们首先需要了解并熟悉 Pandas 支持的数据类型。\n"
   ],
   "metadata": {
    "collapsed": false
   },
   "id": "51c92371b8b6a55"
  },
  {
   "cell_type": "markdown",
   "source": [
    "数据类型\n",
    "Pandas 的数据类型主要有以下几种，它们分别是：Series（一维数组），DataFrame（二维数组），Panel（三维数组），Panel4D（四维数组），PanelND（更多维数组）。其中 Series 和 DataFrame 应用的最为广泛，几乎占据了使用频率 90% 以上。"
   ],
   "metadata": {
    "collapsed": false
   },
   "id": "b4dd3c9cc26a2ae5"
  },
  {
   "cell_type": "markdown",
   "source": [
    "Series\n",
    "Series 是 Pandas 中最基本的一维数组形式。其可以储存整数、浮点数、字符串等类型的数据。Series 基本结构如下："
   ],
   "metadata": {
    "collapsed": false
   },
   "id": "e383943439355895"
  },
  {
   "cell_type": "code",
   "execution_count": 6,
   "outputs": [
    {
     "data": {
      "text/plain": "Series([], dtype: object)"
     },
     "execution_count": 6,
     "metadata": {},
     "output_type": "execute_result"
    }
   ],
   "source": [
    "import pandas as pd\n",
    "pd.Series(data=None, index=None, dtype=None, name=None, copy=False, fastpath=False)"
   ],
   "metadata": {
    "collapsed": false,
    "ExecuteTime": {
     "end_time": "2024-01-05T12:07:20.160759200Z",
     "start_time": "2024-01-05T12:07:20.156216800Z"
    }
   },
   "id": "7272d5cab4abb4e"
  },
  {
   "cell_type": "markdown",
   "source": [
    "其中，data 可以是字典，或者NumPy 里的 ndarray 对象等。index 是数据索引，索引是 Pandas 数据结构中的一大特性，它主要的功能是帮助我们更快速地定位数据。\n",
    "\n",
    "下面，我们基于 Python 字典新建一个示例 Series。"
   ],
   "metadata": {
    "collapsed": false
   },
   "id": "3375c4a884570867"
  },
  {
   "cell_type": "markdown",
   "source": [
    "s=pd.Series({'a':1,'b':2,'c':3})\n",
    "s"
   ],
   "metadata": {
    "collapsed": false
   },
   "id": "3b456dc37e6f808a"
  },
  {
   "cell_type": "markdown",
   "source": [
    "可以看到，Series 的索引是自动创建的，且按照顺序排列。我们也可以自定义索引。"
   ],
   "metadata": {
    "collapsed": false
   },
   "id": "bddf5f262c8fa81d"
  },
  {
   "cell_type": "code",
   "execution_count": 7,
   "outputs": [
    {
     "data": {
      "text/plain": "pandas.core.series.Series"
     },
     "execution_count": 7,
     "metadata": {},
     "output_type": "execute_result"
    }
   ],
   "source": [
    "type(s)"
   ],
   "metadata": {
    "collapsed": false,
    "ExecuteTime": {
     "end_time": "2024-01-05T12:07:23.056135Z",
     "start_time": "2024-01-05T12:07:23.051746100Z"
    }
   },
   "id": "20d83f93eb3a2a22"
  },
  {
   "cell_type": "markdown",
   "source": [
    "由于 Pandas 基于 NumPy 开发。那么 NumPy 的数据类型 ndarray 多维数组自然就可以转换为 Pandas 中的数据。而 Series 则可以基于 NumPy 中的一维数据转换"
   ],
   "metadata": {
    "collapsed": false
   },
   "id": "995255161613dd5e"
  },
  {
   "cell_type": "code",
   "execution_count": 8,
   "outputs": [
    {
     "data": {
      "text/plain": "a    1.324701\nb    0.591546\nc   -0.043139\nd   -0.591737\ne   -1.308017\ndtype: float64"
     },
     "execution_count": 8,
     "metadata": {},
     "output_type": "execute_result"
    }
   ],
   "source": [
    "import numpy as np\n",
    "s=pd.Series(np.random.randn(5),index=['a','b','c','d','e'])\n",
    "s"
   ],
   "metadata": {
    "collapsed": false,
    "ExecuteTime": {
     "end_time": "2024-01-05T12:07:24.217598200Z",
     "start_time": "2024-01-05T12:07:24.213827700Z"
    }
   },
   "id": "99cf2917da9bf53d"
  },
  {
   "cell_type": "markdown",
   "source": [
    "如上所示，我们给出了 NumPy 生成的一维随机数组，最终得到的 Series 索引默认从 0 开始，而数值类型为 float64。"
   ],
   "metadata": {
    "collapsed": false
   },
   "id": "eaa7ffd8bff0ffc5"
  },
  {
   "cell_type": "markdown",
   "source": [
    "DataFrame"
   ],
   "metadata": {
    "collapsed": false
   },
   "id": "79ab2a82f90b7cef"
  },
  {
   "cell_type": "markdown",
   "source": [
    "DataFrame 是 Pandas 中最为常见、最重要且使用频率最高的数据结构。DataFrame 和平常的电子表格或 SQL 表结构相似。你可以把 DataFrame 看成是 Series 的扩展类型，它仿佛是由多个 Series 拼合而成。它和 Series 的直观区别在于，数据不但具有行索引，且具有列索引。\n"
   ],
   "metadata": {
    "collapsed": false
   },
   "id": "5f0309c8288db02a"
  },
  {
   "cell_type": "markdown",
   "source": [
    "DataFrame 的基本结构如下："
   ],
   "metadata": {
    "collapsed": false
   },
   "id": "9c1fd0bff93bbbb4"
  },
  {
   "cell_type": "code",
   "execution_count": 10,
   "outputs": [
    {
     "data": {
      "text/plain": "Empty DataFrame\nColumns: []\nIndex: []",
      "text/html": "<div>\n<style scoped>\n    .dataframe tbody tr th:only-of-type {\n        vertical-align: middle;\n    }\n\n    .dataframe tbody tr th {\n        vertical-align: top;\n    }\n\n    .dataframe thead th {\n        text-align: right;\n    }\n</style>\n<table border=\"1\" class=\"dataframe\">\n  <thead>\n    <tr style=\"text-align: right;\">\n      <th></th>\n    </tr>\n  </thead>\n  <tbody>\n  </tbody>\n</table>\n</div>"
     },
     "execution_count": 10,
     "metadata": {},
     "output_type": "execute_result"
    }
   ],
   "source": [
    "pd.DataFrame(data=None, index=None, columns=None)"
   ],
   "metadata": {
    "collapsed": false,
    "ExecuteTime": {
     "end_time": "2024-01-05T12:07:50.451462200Z",
     "start_time": "2024-01-05T12:07:50.446752200Z"
    }
   },
   "id": "3a5ce8d63da05985"
  },
  {
   "cell_type": "markdown",
   "source": [
    "区别于 Series，其增加了 columns 列索引。DataFrame 可以由以下多个类型的数据构建：\n",
    "\n",
    "一维数组、列表、字典或者 Series 字典。\n",
    "二维或者结构化的 numpy.ndarray。\n",
    "一个 Series 或者另一个 DataFrame。\n",
    "例如，我们首先使用一个由 Series 组成的字典来构建 DataFrame。"
   ],
   "metadata": {
    "collapsed": false
   },
   "id": "6ba23f321ca0e669"
  },
  {
   "cell_type": "code",
   "execution_count": 11,
   "outputs": [
    {
     "data": {
      "text/plain": "{'one': a    1\n b    2\n c    3\n dtype: int64,\n 'two': a    1\n b    2\n c    3\n d    4\n dtype: int64}"
     },
     "execution_count": 11,
     "metadata": {},
     "output_type": "execute_result"
    }
   ],
   "source": [
    "d={'one':pd.Series([1,2,3],index=['a','b','c']),\n",
    "   'two':pd.Series([1,2,3,4],index=['a','b','c','d'])}\n",
    "d"
   ],
   "metadata": {
    "collapsed": false,
    "ExecuteTime": {
     "end_time": "2024-01-05T12:08:25.273904100Z",
     "start_time": "2024-01-05T12:08:25.267558200Z"
    }
   },
   "id": "3b85f8db7ec1adf6"
  },
  {
   "cell_type": "markdown",
   "source": [
    "当不指定索引时，DataFrame 的索引同样是从 0 开始。我们也可以直接通过一个列表构成的字典来生成 DataFrame。"
   ],
   "metadata": {
    "collapsed": false
   },
   "id": "b2c27e9057272bd0"
  },
  {
   "cell_type": "code",
   "execution_count": 12,
   "outputs": [
    {
     "data": {
      "text/plain": "{'one': [1, 2, 3, 4], 'two': [4, 3, 2, 1]}"
     },
     "execution_count": 12,
     "metadata": {},
     "output_type": "execute_result"
    }
   ],
   "source": [
    "d={'one':[1,2,3,4],\n",
    "   'two':[4,3,2,1]}\n",
    "d"
   ],
   "metadata": {
    "collapsed": false,
    "ExecuteTime": {
     "end_time": "2024-01-05T12:08:51.460899700Z",
     "start_time": "2024-01-05T12:08:51.453562400Z"
    }
   },
   "id": "e5f0d1e07a94cf60"
  },
  {
   "cell_type": "markdown",
   "source": [
    "或者反过来，由带字典的列表生成 DataFrame。"
   ],
   "metadata": {
    "collapsed": false
   },
   "id": "dd359b2f42b3475a"
  },
  {
   "cell_type": "code",
   "execution_count": 13,
   "outputs": [
    {
     "data": {
      "text/plain": "   one  two\n0    1    4\n1    2    5\n2    3    6",
      "text/html": "<div>\n<style scoped>\n    .dataframe tbody tr th:only-of-type {\n        vertical-align: middle;\n    }\n\n    .dataframe tbody tr th {\n        vertical-align: top;\n    }\n\n    .dataframe thead th {\n        text-align: right;\n    }\n</style>\n<table border=\"1\" class=\"dataframe\">\n  <thead>\n    <tr style=\"text-align: right;\">\n      <th></th>\n      <th>one</th>\n      <th>two</th>\n    </tr>\n  </thead>\n  <tbody>\n    <tr>\n      <th>0</th>\n      <td>1</td>\n      <td>4</td>\n    </tr>\n    <tr>\n      <th>1</th>\n      <td>2</td>\n      <td>5</td>\n    </tr>\n    <tr>\n      <th>2</th>\n      <td>3</td>\n      <td>6</td>\n    </tr>\n  </tbody>\n</table>\n</div>"
     },
     "execution_count": 13,
     "metadata": {},
     "output_type": "execute_result"
    }
   ],
   "source": [
    "df = pd.DataFrame([{'one': 1, 'two': 4},\n",
    "                   {'one': 2, 'two': 5},\n",
    "                   {'one': 3, 'two': 6}])\n",
    "df"
   ],
   "metadata": {
    "collapsed": false,
    "ExecuteTime": {
     "end_time": "2024-01-05T12:09:16.115352200Z",
     "start_time": "2024-01-05T12:09:16.107722800Z"
    }
   },
   "id": "77defcc4f6c6a351"
  },
  {
   "cell_type": "markdown",
   "source": [
    "NumPy 的多维数组非常常用，同样可以基于二维数值来构建一个 DataFrame。"
   ],
   "metadata": {
    "collapsed": false
   },
   "id": "4351810b6d8c9cee"
  },
  {
   "cell_type": "code",
   "execution_count": 14,
   "outputs": [
    {
     "data": {
      "text/plain": "   0  1  2  3\n0  3  0  4  0\n1  0  2  3  1",
      "text/html": "<div>\n<style scoped>\n    .dataframe tbody tr th:only-of-type {\n        vertical-align: middle;\n    }\n\n    .dataframe tbody tr th {\n        vertical-align: top;\n    }\n\n    .dataframe thead th {\n        text-align: right;\n    }\n</style>\n<table border=\"1\" class=\"dataframe\">\n  <thead>\n    <tr style=\"text-align: right;\">\n      <th></th>\n      <th>0</th>\n      <th>1</th>\n      <th>2</th>\n      <th>3</th>\n    </tr>\n  </thead>\n  <tbody>\n    <tr>\n      <th>0</th>\n      <td>3</td>\n      <td>0</td>\n      <td>4</td>\n      <td>0</td>\n    </tr>\n    <tr>\n      <th>1</th>\n      <td>0</td>\n      <td>2</td>\n      <td>3</td>\n      <td>1</td>\n    </tr>\n  </tbody>\n</table>\n</div>"
     },
     "execution_count": 14,
     "metadata": {},
     "output_type": "execute_result"
    }
   ],
   "source": [
    "pd.DataFrame(np.random.randint(5, size=(2, 4))) "
   ],
   "metadata": {
    "collapsed": false,
    "ExecuteTime": {
     "end_time": "2024-01-05T12:09:41.830730100Z",
     "start_time": "2024-01-05T12:09:41.822546900Z"
    }
   },
   "id": "3dd98a90c92ea6f1"
  },
  {
   "cell_type": "markdown",
   "source": [
    "Pandas 常用的 Series 和 DataFrame 数据类型。Series 实际上可以被初略看出是只有 1 列数据的 DataFrame。当然，这个说法不严谨，二者的核心区别仍然是 Series 没有列索引。你可以观察如下所示由 NumPy 一维随机数组生成的 Series 和 DataFrame。"
   ],
   "metadata": {
    "collapsed": false
   },
   "id": "6abb3193bf5ebb18"
  },
  {
   "cell_type": "code",
   "execution_count": 15,
   "outputs": [
    {
     "data": {
      "text/plain": "0    3\n1    4\n2    0\n3    1\n4    4\ndtype: int32"
     },
     "execution_count": 15,
     "metadata": {},
     "output_type": "execute_result"
    }
   ],
   "source": [
    "pd.Series(np.random.randint(5, size=(5,)))"
   ],
   "metadata": {
    "collapsed": false,
    "ExecuteTime": {
     "end_time": "2024-01-05T12:10:13.601680400Z",
     "start_time": "2024-01-05T12:10:13.593649600Z"
    }
   },
   "id": "f9457d403d1bf06f"
  },
  {
   "cell_type": "code",
   "execution_count": 16,
   "outputs": [
    {
     "data": {
      "text/plain": "   0\n0  1\n1  2\n2  1\n3  0\n4  2",
      "text/html": "<div>\n<style scoped>\n    .dataframe tbody tr th:only-of-type {\n        vertical-align: middle;\n    }\n\n    .dataframe tbody tr th {\n        vertical-align: top;\n    }\n\n    .dataframe thead th {\n        text-align: right;\n    }\n</style>\n<table border=\"1\" class=\"dataframe\">\n  <thead>\n    <tr style=\"text-align: right;\">\n      <th></th>\n      <th>0</th>\n    </tr>\n  </thead>\n  <tbody>\n    <tr>\n      <th>0</th>\n      <td>1</td>\n    </tr>\n    <tr>\n      <th>1</th>\n      <td>2</td>\n    </tr>\n    <tr>\n      <th>2</th>\n      <td>1</td>\n    </tr>\n    <tr>\n      <th>3</th>\n      <td>0</td>\n    </tr>\n    <tr>\n      <th>4</th>\n      <td>2</td>\n    </tr>\n  </tbody>\n</table>\n</div>"
     },
     "execution_count": 16,
     "metadata": {},
     "output_type": "execute_result"
    }
   ],
   "source": [
    "pd.DataFrame(np.random.randint(5, size=(5,)))"
   ],
   "metadata": {
    "collapsed": false,
    "ExecuteTime": {
     "end_time": "2024-01-05T12:10:26.940098600Z",
     "start_time": "2024-01-05T12:10:26.931787900Z"
    }
   },
   "id": "d8f712ff4d4095aa"
  },
  {
   "cell_type": "markdown",
   "source": [
    "数据读取"
   ],
   "metadata": {
    "collapsed": false
   },
   "id": "5da35a3a7ad6b6fd"
  },
  {
   "cell_type": "markdown",
   "source": [
    "想要使用 Pandas 来分析数据，那么首先需要读取数据。大多数情况下，数据都来源于外部的数据文件或者数据库。Pandas 提供了一系列的方法来读取外部数据，非常全面。下面，我们以最常用的 CSV 数据文件为例进行介绍。\n",
    "\n",
    "读取数据 CSV 文件的方法是 pandas.read_csv()，你可以直接传入一个相对路径，或者是网络 URL。"
   ],
   "metadata": {
    "collapsed": false
   },
   "id": "6d216b7fd562c8ae"
  },
  {
   "cell_type": "code",
   "execution_count": null,
   "outputs": [],
   "source": [
    "df = pd.read_csv(\"https://labfile.oss.aliyuncs.com/courses/906/los_census.csv\")\n",
    "df"
   ],
   "metadata": {
    "collapsed": false,
    "is_executing": true,
    "ExecuteTime": {
     "start_time": "2024-01-05T12:43:45.405751600Z"
    }
   },
   "id": "4b414057b23c0c06"
  },
  {
   "cell_type": "markdown",
   "source": [
    "由于 CSV 存储时是一个二维的表格，那么 Pandas 会自动将其读取为 DataFrame 类型。\n",
    "\n",
    "现在你应该就明白了，DataFrame 是 Pandas 构成的核心。一切的数据，无论是外部读取还是自行生成，我们都需要先将其转换为 Pandas 的 DataFrame 或者 Series 数据类型。实际上，大多数情况下，这一切都是设计好的，无需执行额外的转换工作。\n",
    "\n",
    "pd.read_ 前缀开始的方法还可以读取各式各样的数据文件，且支持连接数据库。这里，我们不再依次赘述，你可以阅读  官方文档相应章节 熟悉这些方法以及搞清楚这些方法包含的参数。"
   ],
   "metadata": {
    "collapsed": false
   },
   "id": "a14a17108bc22f9a"
  },
  {
   "cell_type": "markdown",
   "source": [
    "为什么要将数据转换为 Series 或者 DataFrame 结构？"
   ],
   "metadata": {
    "collapsed": false
   },
   "id": "e38c43501316bf81"
  },
  {
   "cell_type": "markdown",
   "source": [
    "因为 Pandas 针对数据操作的全部方法都是基于 Pandas 支持的数据结构设计的。也就是说，只有 Series 或者 DataFrame 才能使用 Pandas 提供的方法和函数进行处理。所以，学习真正数据处理方法之前，我们需要将数据转换生成为 Series 或 DataFrame 类型。"
   ],
   "metadata": {
    "collapsed": false
   },
   "id": "39926d9f387cf51"
  },
  {
   "cell_type": "markdown",
   "source": [
    "基本操作"
   ],
   "metadata": {
    "collapsed": false
   },
   "id": "8608599d356c49d6"
  },
  {
   "cell_type": "markdown",
   "source": [
    "通过上面的内容，我们已经知道一个 DataFrame 结构大致由 3 部分组成，它们分别是列名称、索引和数据。\n",
    "接下来，我们就学习针对 DataFrame 的基本操作。本次课程中，我们不会刻意强调 Series，因为你在 DataFrame 上学习的大多数方法和技巧都适用于对 Series 进行处理，二者同根同源。\n",
    "\n",
    "有些时候，我们读取的文件很大。如果全部输出预览这些文件，既不美观，又很耗时。还好，Pandas 提供了 head() 和 tail() 方法，它可以帮助我们只预览一小块数据。"
   ],
   "metadata": {
    "collapsed": false
   },
   "id": "b3740955b16c9005"
  },
  {
   "cell_type": "code",
   "execution_count": null,
   "outputs": [],
   "source": [
    "df.head()#默认显示前5行"
   ],
   "metadata": {
    "collapsed": false,
    "is_executing": true
   },
   "id": "e85221c9ff62d6b9"
  },
  {
   "cell_type": "code",
   "execution_count": null,
   "outputs": [],
   "source": [
    "df.tail()#默认显示后5行"
   ],
   "metadata": {
    "collapsed": false,
    "is_executing": true
   },
   "id": "13d3456f1874f349"
  },
  {
   "cell_type": "markdown",
   "source": [
    "Pandas 还提供了统计和描述性方法，方便你从宏观的角度去了解数据集。describe() 相当于对数据集进行概览，会输出该数据集每一列数据的计数、最大值、最小值等。"
   ],
   "metadata": {
    "collapsed": false
   },
   "id": "7af51ba9b24007a5"
  },
  {
   "cell_type": "code",
   "execution_count": null,
   "outputs": [],
   "source": [
    "df.describe()"
   ],
   "metadata": {
    "collapsed": false,
    "is_executing": true
   },
   "id": "9296061a007f1859"
  },
  {
   "cell_type": "markdown",
   "source": [
    "Pandas 基于 NumPy 开发，所以任何时候你都可以通过 .values 将 DataFrame 转换为 NumPy 数组。"
   ],
   "metadata": {
    "collapsed": false
   },
   "id": "3a8002606672031b"
  },
  {
   "cell_type": "code",
   "execution_count": null,
   "outputs": [],
   "source": [
    "df.values"
   ],
   "metadata": {
    "collapsed": false,
    "is_executing": true
   },
   "id": "a4e5c576988457fa"
  },
  {
   "cell_type": "markdown",
   "source": [
    "你可以同时使用 Pandas 和 NumPy 提供的 API 对同一数据进行操作，并在二者之间进行随意转换。这就是一个非常灵活的工具生态圈。\n",
    "\n",
    "除了 .values，DataFrame 支持的常见属性可以通过  官方文档相应章节 查看。其中常用的有："
   ],
   "metadata": {
    "collapsed": false
   },
   "id": "b005e9ea6117eb74"
  },
  {
   "cell_type": "code",
   "execution_count": null,
   "outputs": [],
   "source": [
    "df.index #查看索引"
   ],
   "metadata": {
    "collapsed": false,
    "is_executing": true
   },
   "id": "16a05b0ced24d27a"
  },
  {
   "cell_type": "code",
   "execution_count": null,
   "outputs": [],
   "source": [
    "df.columns #查看列名"
   ],
   "metadata": {
    "collapsed": false,
    "is_executing": true
   },
   "id": "e78249c53d7ef6a5"
  },
  {
   "cell_type": "code",
   "execution_count": null,
   "outputs": [],
   "source": [
    "df.dtypes #查看数据类型"
   ],
   "metadata": {
    "collapsed": false,
    "is_executing": true
   },
   "id": "11528ca09be85712"
  },
  {
   "cell_type": "code",
   "execution_count": null,
   "outputs": [],
   "source": [
    "df.shape #查看形状"
   ],
   "metadata": {
    "collapsed": false,
    "is_executing": true
   },
   "id": "e6cc03773bd62ce9"
  },
  {
   "cell_type": "markdown",
   "source": [
    "数据选择\n",
    "在数据预处理过程中，我们往往会对数据集进行切分，只将需要的某些行、列，或者数据块保留下来，输出到下一个流程中去。这也就是所谓的数据选择，或者数据索引。\n",
    "\n",
    "由于 Pandas 的数据结构中存在索引、标签，所以我们可以通过多轴索引完成对数据的选择。"
   ],
   "metadata": {
    "collapsed": false
   },
   "id": "8066ed44ff3bc392"
  },
  {
   "cell_type": "markdown",
   "source": [
    "基于索引数字选择\n",
    "当我们新建一个 DataFrame 之后，如果未自己指定行索引或者列对应的标签，那么 Pandas 会默认从 0 开始以数字的形式作为行索引，并以数据集的第一行作为列对应的标签。其实，这里的「列」也有数字索引，默认也是从 0 开始，只是未显示出来。\n",
    "\n",
    "所以，我们首先可以基于数字索引对数据集进行选择。这里用到的 Pandas 中的 .iloc 方法。该方法可以接受的类型有：\n",
    "\n",
    "整数。例如：5\n",
    "整数构成的列表或数组。例如：[1, 2, 3]\n",
    "布尔数组。\n",
    "可返回索引值的函数或参数。\n",
    "下面，我们使用上方的示例数据进行演示。\n",
    "\n",
    "首先，我们可以选择前 3 行数据。这和 Python 或者 NumPy 里面的切片很相似"
   ],
   "metadata": {
    "collapsed": false
   },
   "id": "a2c58984e7ad89f6"
  },
  {
   "cell_type": "code",
   "execution_count": null,
   "outputs": [],
   "source": [
    "df.iloc[:3]"
   ],
   "metadata": {
    "collapsed": false,
    "is_executing": true
   },
   "id": "e539ea4ddff66bf5"
  },
  {
   "cell_type": "code",
   "execution_count": null,
   "outputs": [],
   "source": [
    "df.iloc[1:3]"
   ],
   "metadata": {
    "collapsed": false,
    "is_executing": true
   },
   "id": "1228ce4d098016f0"
  },
  {
   "cell_type": "code",
   "execution_count": null,
   "outputs": [],
   "source": [
    "df.iloc[1:3,0:2]"
   ],
   "metadata": {
    "collapsed": false,
    "is_executing": true
   },
   "id": "9fd2ba9a0c0b2440"
  },
  {
   "cell_type": "code",
   "execution_count": null,
   "outputs": [],
   "source": [
    "df.iloc[[0,2],[1,3]]"
   ],
   "metadata": {
    "collapsed": false,
    "is_executing": true
   },
   "id": "f356858ac3a6382d"
  },
  {
   "cell_type": "markdown",
   "source": [
    "那么选择多行，是不是 df.iloc[1, 3, 5] 这样呢？\n",
    "\n",
    "答案是错误的。df.iloc[] 的 [[行]，[列]] 里面可以同时接受行和列的位置，如果你直接键入 df.iloc[1, 3, 5] 就会报错。\n",
    "\n",
    "所以，很简单。如果你想要选择 2，4，6 行，可以这样做"
   ],
   "metadata": {
    "collapsed": false
   },
   "id": "7a7bf71b334a78e2"
  },
  {
   "cell_type": "code",
   "execution_count": null,
   "outputs": [],
   "source": [
    "df.iloc[[1,3,5]]"
   ],
   "metadata": {
    "collapsed": false,
    "is_executing": true
   },
   "id": "f763a107279745f9"
  },
  {
   "cell_type": "markdown",
   "source": [
    "基于标签名称选择\n",
    "除了根据数字索引选择，还可以直接根据标签对应的名称选择。这里用到的方法和上面的 iloc 很相似，少了个 i 为 df.loc[]。\n",
    "\n",
    "df.loc[] 可以接受的类型有：\n",
    "\n",
    "单个标签。例如：2 或 'a'，这里的 2 指的是标签而不是索引位置。\n",
    "列表或数组包含的标签。例如：['A', 'B', 'C']。\n",
    "切片对象。例如：'A':'E'，注意这里和上面切片的不同之处，首尾都包含在内。\n",
    "布尔数组。\n",
    "可返回标签的函数或参数。\n",
    "下面，我们来演示 df.loc[] 的用法。先选择前 3 行："
   ],
   "metadata": {
    "collapsed": false
   },
   "id": "d9dffed93879dcbe"
  },
  {
   "cell_type": "code",
   "execution_count": null,
   "outputs": [],
   "source": [
    "df.loc[0:2]"
   ],
   "metadata": {
    "collapsed": false,
    "is_executing": true
   },
   "id": "a5f1c04fdc56860c"
  },
  {
   "cell_type": "markdown",
   "source": [
    "选择1、3、5行"
   ],
   "metadata": {
    "collapsed": false
   },
   "id": "2c6f8fb9ad547cf0"
  },
  {
   "cell_type": "code",
   "execution_count": null,
   "outputs": [],
   "source": [
    "df.loc[[0,2,4]]"
   ],
   "metadata": {
    "collapsed": false,
    "is_executing": true
   },
   "id": "44b31a9a478639a3"
  },
  {
   "cell_type": "markdown",
   "source": [
    "选择2——4列"
   ],
   "metadata": {
    "collapsed": false
   },
   "id": "504d60bbbea844ee"
  },
  {
   "cell_type": "code",
   "execution_count": null,
   "outputs": [],
   "source": [
    "df.loc[:,'Total Population':'Total Males']"
   ],
   "metadata": {
    "collapsed": false,
    "is_executing": true
   },
   "id": "aebd8532fadf6ee8"
  },
  {
   "cell_type": "markdown",
   "source": [
    "选择1、3行和Median Age后面的列："
   ],
   "metadata": {
    "collapsed": false
   },
   "id": "512f2c16d1eec73c"
  },
  {
   "cell_type": "code",
   "execution_count": null,
   "outputs": [],
   "source": [
    "df.loc[[0,2],'Median Age':]"
   ],
   "metadata": {
    "collapsed": false,
    "is_executing": true
   },
   "id": "7bed79833e72dc2a"
  },
  {
   "cell_type": "code",
   "execution_count": null,
   "outputs": [],
   "source": [],
   "metadata": {
    "collapsed": false
   },
   "id": "afc76c5369640562"
  }
 ],
 "metadata": {
  "kernelspec": {
   "display_name": "Python 3",
   "language": "python",
   "name": "python3"
  },
  "language_info": {
   "codemirror_mode": {
    "name": "ipython",
    "version": 2
   },
   "file_extension": ".py",
   "mimetype": "text/x-python",
   "name": "python",
   "nbconvert_exporter": "python",
   "pygments_lexer": "ipython2",
   "version": "2.7.6"
  }
 },
 "nbformat": 4,
 "nbformat_minor": 5
}
