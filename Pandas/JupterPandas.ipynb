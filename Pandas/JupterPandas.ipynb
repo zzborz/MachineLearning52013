{
 "cells": [
  {
   "cell_type": "markdown",
   "source": [
    "Pandas 是非常著名的开源数据处理库，其基于 NumPy 开发，该工具是 Scipy 生态中为了解决数据分析任务而设计。Pandas 纳入了大量库和一些标准的数据模型，提供了高效地操作大型数据集所需的函数和方法。\n",
    "\n",
    "特有的数据结构是 Pandas 的优势和核心。简单来讲，我们可以将任意格式的数据转换为 Pandas 的数据类型，并使用 Pandas 提供的一系列方法进行转换、操作，最终得到我们期望的结果。\n",
    "\n",
    "所以，我们首先需要了解并熟悉 Pandas 支持的数据类型。\n"
   ],
   "metadata": {
    "collapsed": false
   },
   "id": "51c92371b8b6a55"
  },
  {
   "cell_type": "markdown",
   "source": [
    "数据类型\n",
    "Pandas 的数据类型主要有以下几种，它们分别是：Series（一维数组），DataFrame（二维数组），Panel（三维数组），Panel4D（四维数组），PanelND（更多维数组）。其中 Series 和 DataFrame 应用的最为广泛，几乎占据了使用频率 90% 以上。"
   ],
   "metadata": {
    "collapsed": false
   },
   "id": "b4dd3c9cc26a2ae5"
  },
  {
   "cell_type": "markdown",
   "source": [
    "Series\n",
    "Series 是 Pandas 中最基本的一维数组形式。其可以储存整数、浮点数、字符串等类型的数据。Series 基本结构如下："
   ],
   "metadata": {
    "collapsed": false
   },
   "id": "e383943439355895"
  },
  {
   "cell_type": "code",
   "execution_count": null,
   "outputs": [],
   "source": [
    "import pandas as pd\n",
    "pd.Series(data=None, index=None, dtype=None, name=None, copy=False, fastpath=False)"
   ],
   "metadata": {
    "collapsed": false,
    "is_executing": true
   },
   "id": "7272d5cab4abb4e"
  },
  {
   "cell_type": "code",
   "execution_count": null,
   "outputs": [],
   "source": [],
   "metadata": {
    "collapsed": false
   },
   "id": "da2f7953e13b97f5"
  }
 ],
 "metadata": {
  "kernelspec": {
   "display_name": "Python 3",
   "language": "python",
   "name": "python3"
  },
  "language_info": {
   "codemirror_mode": {
    "name": "ipython",
    "version": 2
   },
   "file_extension": ".py",
   "mimetype": "text/x-python",
   "name": "python",
   "nbconvert_exporter": "python",
   "pygments_lexer": "ipython2",
   "version": "2.7.6"
  }
 },
 "nbformat": 4,
 "nbformat_minor": 5
}
