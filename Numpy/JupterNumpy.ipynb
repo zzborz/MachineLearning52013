{
 "cells": [
  {
   "cell_type": "markdown",
   "source": [
    "1 导入numpy库并简写为 np (★☆☆)"
   ],
   "metadata": {
    "collapsed": false
   },
   "id": "7ba321dd57f955c2"
  },
  {
   "cell_type": "code",
   "execution_count": null,
   "outputs": [],
   "source": [
    "from numpy.lib import stride_tricks\n",
    "import pandas as pd\n",
    "import scipy.spatial as quick\n",
    "import os\n",
    "from numpy.lib.function_base import meshgrid\n",
    "from numpy.core.function_base import linspace\n",
    "import numpy as np"
   ],
   "metadata": {
    "collapsed": false
   },
   "id": "6f58edcfb02d048e"
  },
  {
   "cell_type": "markdown",
   "source": [
    "2 打印numpy的版本和配置说明 (★☆☆)"
   ],
   "metadata": {
    "collapsed": false
   },
   "id": "61da728dfa308af5"
  },
  {
   "cell_type": "code",
   "execution_count": null,
   "outputs": [],
   "source": [
    "print(np.__version__)\n",
    "np.show_config()"
   ],
   "metadata": {
    "collapsed": false
   },
   "id": "4e279e8531d4ca4"
  },
  {
   "cell_type": "markdown",
   "source": [
    "3 创建一个长度为10的空向量 (★☆☆)  "
   ],
   "metadata": {
    "collapsed": false
   },
   "id": "d33a260cdc7a33a8"
  },
  {
   "cell_type": "code",
   "execution_count": null,
   "outputs": [],
   "source": [
    "a = np.zeros(10)\n",
    "print(a)"
   ],
   "metadata": {
    "collapsed": false
   },
   "id": "29e436f9c7961d97"
  },
  {
   "cell_type": "markdown",
   "source": [
    "4 如何找到任何一个数据的内存大小？ (★☆☆)"
   ],
   "metadata": {
    "collapsed": false
   },
   "id": "d204a59777e7aee7"
  },
  {
   "cell_type": "code",
   "execution_count": null,
   "outputs": [],
   "source": [
    "a = np.zeros((10,10))\n",
    "print(\"%d bytes\" % (a.size * a.itemsize))"
   ],
   "metadata": {
    "collapsed": false
   },
   "id": "7a88f711f300a8e5"
  },
  {
   "cell_type": "markdown",
   "source": [
    "5 如何从命令行得到numpy中add函数的说明文档? (★☆☆)"
   ],
   "metadata": {
    "collapsed": false
   },
   "id": "2671573919de2705"
  },
  {
   "cell_type": "code",
   "execution_count": null,
   "outputs": [],
   "source": [
    "np.info(np.add)"
   ],
   "metadata": {
    "collapsed": false
   },
   "id": "6c7a2a34358ee2ac"
  },
  {
   "cell_type": "markdown",
   "source": [
    "6 创建一个第5个值为0的1向量 (★☆☆)"
   ],
   "metadata": {
    "collapsed": false
   },
   "id": "1fc95719e96ae8aa"
  },
  {
   "cell_type": "code",
   "execution_count": 6,
   "outputs": [
    {
     "name": "stdout",
     "output_type": "stream",
     "text": [
      "[1. 1. 1. 1. 0. 1. 1. 1. 1. 1.]\n"
     ]
    }
   ],
   "source": [
    "a = np.ones(10)\n",
    "a[4] = 0\n",
    "print(a)"
   ],
   "metadata": {
    "collapsed": false,
    "ExecuteTime": {
     "end_time": "2024-01-03T13:08:43.776864900Z",
     "start_time": "2024-01-03T13:08:43.772866600Z"
    }
   },
   "id": "882e6a50b51f5485"
  },
  {
   "cell_type": "markdown",
   "source": [
    "创建值域范围的数组"
   ],
   "metadata": {
    "collapsed": false
   },
   "id": "62224b85d4ae768"
  },
  {
   "cell_type": "code",
   "execution_count": 7,
   "outputs": [
    {
     "name": "stdout",
     "output_type": "stream",
     "text": [
      "[10 11 12 13 14 15 16 17 18 19 20 21 22 23 24 25 26 27 28 29]\n"
     ]
    }
   ],
   "source": [
    "a = np.arange(10,30)\n",
    "print(a)"
   ],
   "metadata": {
    "collapsed": false,
    "ExecuteTime": {
     "end_time": "2024-01-03T13:09:36.844993300Z",
     "start_time": "2024-01-03T13:09:36.840644400Z"
    }
   },
   "id": "c19dcd3acb744c54"
  },
  {
   "cell_type": "markdown",
   "source": [
    "反转数组"
   ],
   "metadata": {
    "collapsed": false
   },
   "id": "f15404e71a216423"
  },
  {
   "cell_type": "code",
   "execution_count": 9,
   "outputs": [
    {
     "name": "stdout",
     "output_type": "stream",
     "text": [
      "[29 28 27 26 25 24 23 22 21 20 19 18 17 16 15 14 13 12 11 10]\n"
     ]
    }
   ],
   "source": [
    "a=a[::-1]\n",
    "print(a)"
   ],
   "metadata": {
    "collapsed": false,
    "ExecuteTime": {
     "end_time": "2024-01-03T13:10:26.704236500Z",
     "start_time": "2024-01-03T13:10:26.699078Z"
    }
   },
   "id": "510131ad2bb614e9"
  },
  {
   "cell_type": "code",
   "execution_count": null,
   "outputs": [],
   "source": [],
   "metadata": {
    "collapsed": false
   },
   "id": "ca84b276dd2979"
  }
 ],
 "metadata": {
  "kernelspec": {
   "display_name": "Python 3",
   "language": "python",
   "name": "python3"
  },
  "language_info": {
   "codemirror_mode": {
    "name": "ipython",
    "version": 2
   },
   "file_extension": ".py",
   "mimetype": "text/x-python",
   "name": "python",
   "nbconvert_exporter": "python",
   "pygments_lexer": "ipython2",
   "version": "2.7.6"
  }
 },
 "nbformat": 4,
 "nbformat_minor": 5
}
