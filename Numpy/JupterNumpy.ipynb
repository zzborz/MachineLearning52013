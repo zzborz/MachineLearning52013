{
 "cells": [
  {
   "cell_type": "markdown",
   "source": [
    "1 导入numpy库并简写为 np (★☆☆)"
   ],
   "metadata": {
    "collapsed": false
   },
   "id": "7ba321dd57f955c2"
  },
  {
   "cell_type": "code",
   "execution_count": null,
   "outputs": [],
   "source": [
    "from numpy.lib import stride_tricks\n",
    "import pandas as pd\n",
    "import scipy.spatial as quick\n",
    "import os\n",
    "from numpy.lib.function_base import meshgrid\n",
    "from numpy.core.function_base import linspace\n",
    "import numpy as np"
   ],
   "metadata": {
    "collapsed": false
   },
   "id": "6f58edcfb02d048e"
  },
  {
   "cell_type": "markdown",
   "source": [
    "2 打印numpy的版本和配置说明 (★☆☆)"
   ],
   "metadata": {
    "collapsed": false
   },
   "id": "61da728dfa308af5"
  },
  {
   "cell_type": "code",
   "execution_count": null,
   "outputs": [],
   "source": [
    "print(np.__version__)\n",
    "np.show_config()"
   ],
   "metadata": {
    "collapsed": false
   },
   "id": "4e279e8531d4ca4"
  },
  {
   "cell_type": "markdown",
   "source": [
    "3 创建一个长度为10的空向量 (★☆☆)  "
   ],
   "metadata": {
    "collapsed": false
   },
   "id": "d33a260cdc7a33a8"
  },
  {
   "cell_type": "code",
   "execution_count": null,
   "outputs": [],
   "source": [
    "a = np.zeros(10)\n",
    "print(a)"
   ],
   "metadata": {
    "collapsed": false
   },
   "id": "29e436f9c7961d97"
  },
  {
   "cell_type": "markdown",
   "source": [
    "4 如何找到任何一个数据的内存大小？ (★☆☆)"
   ],
   "metadata": {
    "collapsed": false
   },
   "id": "d204a59777e7aee7"
  },
  {
   "cell_type": "code",
   "execution_count": null,
   "outputs": [],
   "source": [
    "a = np.zeros((10,10))\n",
    "print(\"%d bytes\" % (a.size * a.itemsize))"
   ],
   "metadata": {
    "collapsed": false
   },
   "id": "7a88f711f300a8e5"
  },
  {
   "cell_type": "markdown",
   "source": [
    "5 如何从命令行得到numpy中add函数的说明文档? (★☆☆)"
   ],
   "metadata": {
    "collapsed": false
   },
   "id": "2671573919de2705"
  },
  {
   "cell_type": "code",
   "execution_count": null,
   "outputs": [],
   "source": [
    "np.info(np.add)"
   ],
   "metadata": {
    "collapsed": false
   },
   "id": "6c7a2a34358ee2ac"
  },
  {
   "cell_type": "markdown",
   "source": [
    "6 创建一个第5个值为0的1向量 (★☆☆)"
   ],
   "metadata": {
    "collapsed": false
   },
   "id": "1fc95719e96ae8aa"
  },
  {
   "cell_type": "code",
   "execution_count": 6,
   "outputs": [
    {
     "name": "stdout",
     "output_type": "stream",
     "text": [
      "[1. 1. 1. 1. 0. 1. 1. 1. 1. 1.]\n"
     ]
    }
   ],
   "source": [
    "a = np.ones(10)\n",
    "a[4] = 0\n",
    "print(a)"
   ],
   "metadata": {
    "collapsed": false,
    "ExecuteTime": {
     "end_time": "2024-01-03T13:08:43.776864900Z",
     "start_time": "2024-01-03T13:08:43.772866600Z"
    }
   },
   "id": "882e6a50b51f5485"
  },
  {
   "cell_type": "markdown",
   "source": [
    "创建值域范围的数组"
   ],
   "metadata": {
    "collapsed": false
   },
   "id": "62224b85d4ae768"
  },
  {
   "cell_type": "code",
   "execution_count": 7,
   "outputs": [
    {
     "name": "stdout",
     "output_type": "stream",
     "text": [
      "[10 11 12 13 14 15 16 17 18 19 20 21 22 23 24 25 26 27 28 29]\n"
     ]
    }
   ],
   "source": [
    "a = np.arange(10,30)\n",
    "print(a)"
   ],
   "metadata": {
    "collapsed": false,
    "ExecuteTime": {
     "end_time": "2024-01-03T13:09:36.844993300Z",
     "start_time": "2024-01-03T13:09:36.840644400Z"
    }
   },
   "id": "c19dcd3acb744c54"
  },
  {
   "cell_type": "markdown",
   "source": [
    "反转数组"
   ],
   "metadata": {
    "collapsed": false
   },
   "id": "f15404e71a216423"
  },
  {
   "cell_type": "code",
   "execution_count": 9,
   "outputs": [
    {
     "name": "stdout",
     "output_type": "stream",
     "text": [
      "[29 28 27 26 25 24 23 22 21 20 19 18 17 16 15 14 13 12 11 10]\n"
     ]
    }
   ],
   "source": [
    "a=a[::-1]\n",
    "print(a)"
   ],
   "metadata": {
    "collapsed": false,
    "ExecuteTime": {
     "end_time": "2024-01-03T13:10:26.704236500Z",
     "start_time": "2024-01-03T13:10:26.699078Z"
    }
   },
   "id": "510131ad2bb614e9"
  },
  {
   "cell_type": "markdown",
   "source": [
    "查找非0元素位置的索引"
   ],
   "metadata": {
    "collapsed": false
   },
   "id": "c512f7dadc77bc52"
  },
  {
   "cell_type": "code",
   "execution_count": 10,
   "outputs": [
    {
     "name": "stdout",
     "output_type": "stream",
     "text": [
      "(array([0, 1, 4], dtype=int64),)\n"
     ]
    }
   ],
   "source": [
    "nz = np.nonzero([1,2,0,0,4,0])\n",
    "print(nz)"
   ],
   "metadata": {
    "collapsed": false,
    "ExecuteTime": {
     "end_time": "2024-01-04T01:53:49.339802300Z",
     "start_time": "2024-01-04T01:53:49.332925800Z"
    }
   },
   "id": "64ceab5fcc8a382d"
  },
  {
   "cell_type": "markdown",
   "source": [
    "创建一个3*3的矩阵，值域范围为[0,8]"
   ],
   "metadata": {
    "collapsed": false
   },
   "id": "734c8c40247ed988"
  },
  {
   "cell_type": "code",
   "execution_count": 13,
   "outputs": [
    {
     "name": "stdout",
     "output_type": "stream",
     "text": [
      "[[0 1 2]\n",
      " [3 4 5]\n",
      " [6 7 8]]\n"
     ]
    }
   ],
   "source": [
    "a = np.arange(0,9).reshape(3,3)\n",
    "print(a)"
   ],
   "metadata": {
    "collapsed": false,
    "ExecuteTime": {
     "end_time": "2024-01-04T01:54:10.874685Z",
     "start_time": "2024-01-04T01:54:10.871836300Z"
    }
   },
   "id": "dab2516157b630fd"
  },
  {
   "cell_type": "markdown",
   "source": [
    "创建一个3*3的单位矩阵"
   ],
   "metadata": {
    "collapsed": false
   },
   "id": "a0db50c3b1f5b8dc"
  },
  {
   "cell_type": "code",
   "execution_count": 14,
   "outputs": [
    {
     "name": "stdout",
     "output_type": "stream",
     "text": [
      "[[1. 0. 0.]\n",
      " [0. 1. 0.]\n",
      " [0. 0. 1.]]\n"
     ]
    }
   ],
   "source": [
    "a = np.eye(3)\n",
    "print(a)"
   ],
   "metadata": {
    "collapsed": false,
    "ExecuteTime": {
     "end_time": "2024-01-04T01:55:56.619792700Z",
     "start_time": "2024-01-04T01:55:56.615257900Z"
    }
   },
   "id": "fe505e14d3ed0871"
  },
  {
   "cell_type": "markdown",
   "source": [
    "创建一个10*10*10的随机矩阵"
   ],
   "metadata": {
    "collapsed": false
   },
   "id": "9e156bcee8fccec9"
  },
  {
   "cell_type": "code",
   "execution_count": 16,
   "outputs": [
    {
     "name": "stdout",
     "output_type": "stream",
     "text": [
      "[[[0.20170818 0.5871193  0.41232835]\n",
      "  [0.06353393 0.49400797 0.53323372]\n",
      "  [0.06640026 0.46008557 0.04781426]]\n",
      "\n",
      " [[0.25892463 0.70111037 0.30889453]\n",
      "  [0.22065158 0.81405948 0.86938252]\n",
      "  [0.2004803  0.25851068 0.09894242]]\n",
      "\n",
      " [[0.78050978 0.22135074 0.90855266]\n",
      "  [0.97894038 0.77880752 0.26250661]\n",
      "  [0.92936539 0.43550373 0.80200555]]]\n"
     ]
    }
   ],
   "source": [
    "a = np.random.random((3,3,3))\n",
    "print(a)"
   ],
   "metadata": {
    "collapsed": false,
    "ExecuteTime": {
     "end_time": "2024-01-04T01:57:17.576880100Z",
     "start_time": "2024-01-04T01:57:17.574378100Z"
    }
   },
   "id": "5d6722b93e184412"
  },
  {
   "cell_type": "markdown",
   "source": [
    "创建一个10*10的数组，并找到最大值和最小值"
   ],
   "metadata": {
    "collapsed": false
   },
   "id": "92ff2c38e4614fb6"
  },
  {
   "cell_type": "code",
   "execution_count": 17,
   "outputs": [
    {
     "name": "stdout",
     "output_type": "stream",
     "text": [
      "[[0.50035125 0.00667535 0.31478801 0.90198937 0.60088156 0.50675071\n",
      "  0.00663773 0.54854759 0.37538863 0.86196622]\n",
      " [0.3574234  0.22968757 0.04920989 0.60291774 0.21368744 0.17813105\n",
      "  0.10120154 0.53937065 0.44183    0.26534003]\n",
      " [0.2060786  0.96003758 0.44790071 0.61383819 0.6429377  0.62038973\n",
      "  0.41947772 0.53568855 0.734508   0.98614061]\n",
      " [0.18827213 0.13477628 0.37622046 0.28785335 0.32023497 0.06196957\n",
      "  0.1923166  0.37018236 0.93830209 0.05276708]\n",
      " [0.39300547 0.26313265 0.35315063 0.71743256 0.82491756 0.62345595\n",
      "  0.83237021 0.52909607 0.66214941 0.99368994]\n",
      " [0.05156655 0.10609248 0.88565005 0.47674273 0.06272408 0.79378264\n",
      "  0.61003512 0.47885887 0.23997813 0.44811215]\n",
      " [0.12340334 0.89822829 0.59586939 0.28828567 0.32231501 0.3796251\n",
      "  0.99949657 0.24683884 0.43805617 0.7727033 ]\n",
      " [0.50495777 0.28011802 0.96079482 0.56020887 0.46460411 0.48521311\n",
      "  0.09638417 0.30035195 0.07421614 0.15423766]\n",
      " [0.15094146 0.82110422 0.18991241 0.87599282 0.1391718  0.24494269\n",
      "  0.07621289 0.94894484 0.16265814 0.5503482 ]\n",
      " [0.28799271 0.63623763 0.93961914 0.67555478 0.22790467 0.93555795\n",
      "  0.73430668 0.18414446 0.34305993 0.20702216]]\n"
     ]
    }
   ],
   "source": [
    "a = np.random.random((10,10))\n",
    "print(a)"
   ],
   "metadata": {
    "collapsed": false,
    "ExecuteTime": {
     "end_time": "2024-01-04T01:58:39.033338Z",
     "start_time": "2024-01-04T01:58:39.026319600Z"
    }
   },
   "id": "d61dcfa68bdfab37"
  },
  {
   "cell_type": "code",
   "execution_count": 18,
   "outputs": [
    {
     "name": "stdout",
     "output_type": "stream",
     "text": [
      "0.006637731512561973 0.9994965712147063\n"
     ]
    }
   ],
   "source": [
    "a_min, a_max = a.min(), a.max()\n",
    "print(a_min, a_max)"
   ],
   "metadata": {
    "collapsed": false,
    "ExecuteTime": {
     "end_time": "2024-01-04T01:59:02.357541500Z",
     "start_time": "2024-01-04T01:59:02.351205800Z"
    }
   },
   "id": "159f739af64b1081"
  },
  {
   "cell_type": "markdown",
   "source": [
    "创建一个长度为30的随机向量，并找到它的平均值"
   ],
   "metadata": {
    "collapsed": false
   },
   "id": "1cae12cdac21a2a3"
  },
  {
   "cell_type": "code",
   "execution_count": 20,
   "outputs": [
    {
     "name": "stdout",
     "output_type": "stream",
     "text": [
      "[0.70173261 0.67387139 0.0126511  0.77837683 0.70865652 0.10511389\n",
      " 0.78179452 0.95091594 0.78372145 0.27416291 0.52139158 0.85562921\n",
      " 0.39004657 0.7528484  0.37162241 0.56345697 0.36932559 0.11879262\n",
      " 0.88485136 0.56214994 0.27821335 0.60275495 0.57481976 0.84793779\n",
      " 0.44083208 0.7753302  0.78074445 0.43290074 0.65635405 0.1813007 ]\n",
      "0.5577433294899901\n"
     ]
    }
   ],
   "source": [
    "a = np.random.random(30)\n",
    "print(a)\n",
    "Z_mean = a.mean()\n",
    "print(Z_mean)"
   ],
   "metadata": {
    "collapsed": false,
    "ExecuteTime": {
     "end_time": "2024-01-04T01:59:54.498305900Z",
     "start_time": "2024-01-04T01:59:54.495296Z"
    }
   },
   "id": "ac988bdfa8bee564"
  },
  {
   "cell_type": "markdown",
   "source": [
    "创建一个二维数组，边界值为1，其余值为0"
   ],
   "metadata": {
    "collapsed": false
   },
   "id": "f3eaea3c9002a2e3"
  },
  {
   "cell_type": "code",
   "execution_count": 21,
   "outputs": [
    {
     "name": "stdout",
     "output_type": "stream",
     "text": [
      "[[1. 1. 1. 1. 1. 1. 1. 1. 1. 1.]\n",
      " [1. 1. 1. 1. 1. 1. 1. 1. 1. 1.]\n",
      " [1. 1. 1. 1. 1. 1. 1. 1. 1. 1.]\n",
      " [1. 1. 1. 1. 1. 1. 1. 1. 1. 1.]\n",
      " [1. 1. 1. 1. 1. 1. 1. 1. 1. 1.]\n",
      " [1. 1. 1. 1. 1. 1. 1. 1. 1. 1.]\n",
      " [1. 1. 1. 1. 1. 1. 1. 1. 1. 1.]\n",
      " [1. 1. 1. 1. 1. 1. 1. 1. 1. 1.]\n",
      " [1. 1. 1. 1. 1. 1. 1. 1. 1. 1.]\n",
      " [1. 1. 1. 1. 1. 1. 1. 1. 1. 1.]]\n",
      "[[1. 1. 1. 1. 1. 1. 1. 1. 1. 1.]\n",
      " [1. 0. 0. 0. 0. 0. 0. 0. 0. 1.]\n",
      " [1. 0. 0. 0. 0. 0. 0. 0. 0. 1.]\n",
      " [1. 0. 0. 0. 0. 0. 0. 0. 0. 1.]\n",
      " [1. 0. 0. 0. 0. 0. 0. 0. 0. 1.]\n",
      " [1. 0. 0. 0. 0. 0. 0. 0. 0. 1.]\n",
      " [1. 0. 0. 0. 0. 0. 0. 0. 0. 1.]\n",
      " [1. 0. 0. 0. 0. 0. 0. 0. 0. 1.]\n",
      " [1. 0. 0. 0. 0. 0. 0. 0. 0. 1.]\n",
      " [1. 1. 1. 1. 1. 1. 1. 1. 1. 1.]]\n"
     ]
    }
   ],
   "source": [
    "a = np.ones((10,10))\n",
    "print(a)\n",
    "a[1:-1,1:-1] = 0\n",
    "print(a)"
   ],
   "metadata": {
    "collapsed": false,
    "ExecuteTime": {
     "end_time": "2024-01-04T02:01:28.755413300Z",
     "start_time": "2024-01-04T02:01:28.748558800Z"
    }
   },
   "id": "bcb490c77332b916"
  },
  {
   "cell_type": "markdown",
   "source": [
    "对于一个存在数组，如何对边界添加0"
   ],
   "metadata": {
    "collapsed": false
   },
   "id": "2328d2773061077d"
  },
  {
   "cell_type": "code",
   "execution_count": 22,
   "outputs": [
    {
     "name": "stdout",
     "output_type": "stream",
     "text": [
      "[[1. 1. 1. 1. 1.]\n",
      " [1. 1. 1. 1. 1.]\n",
      " [1. 1. 1. 1. 1.]\n",
      " [1. 1. 1. 1. 1.]\n",
      " [1. 1. 1. 1. 1.]]\n",
      "[[0. 0. 0. 0. 0. 0. 0.]\n",
      " [0. 1. 1. 1. 1. 1. 0.]\n",
      " [0. 1. 1. 1. 1. 1. 0.]\n",
      " [0. 1. 1. 1. 1. 1. 0.]\n",
      " [0. 1. 1. 1. 1. 1. 0.]\n",
      " [0. 1. 1. 1. 1. 1. 0.]\n",
      " [0. 0. 0. 0. 0. 0. 0.]]\n"
     ]
    }
   ],
   "source": [
    "a = np.ones((5,5))\n",
    "print(a)\n",
    "a = np.pad(a, pad_width=1, mode='constant', constant_values=0)\n",
    "print(a)"
   ],
   "metadata": {
    "collapsed": false,
    "ExecuteTime": {
     "end_time": "2024-01-04T02:03:17.494066100Z",
     "start_time": "2024-01-04T02:03:17.486192200Z"
    }
   },
   "id": "7127e433e6d39f5f"
  },
  {
   "cell_type": "markdown",
   "source": [
    "下面表达式运行的结果分别是什么\n",
    "NaN= not a number,     Inf = infinity\n",
    "表达式            结果\n",
    "nan是什么意思\n",
    "答：not a number"
   ],
   "metadata": {
    "collapsed": false
   },
   "id": "fb3fd2368439d473"
  },
  {
   "cell_type": "code",
   "execution_count": 23,
   "outputs": [
    {
     "data": {
      "text/plain": "False"
     },
     "execution_count": 23,
     "metadata": {},
     "output_type": "execute_result"
    }
   ],
   "source": [
    "0* np.nan\n",
    "np.nan==np.nan\n",
    "np.inf > np.nan\n",
    "np.nan - np.nan\n",
    "0.3 == 3*0.1"
   ],
   "metadata": {
    "collapsed": false,
    "ExecuteTime": {
     "end_time": "2024-01-04T02:05:51.605157900Z",
     "start_time": "2024-01-04T02:05:51.578773400Z"
    }
   },
   "id": "510778a802fc8090"
  },
  {
   "cell_type": "markdown",
   "source": [
    "创建一个5*5的数组，并设置值1，2，3，4落在其对角线下方位置"
   ],
   "metadata": {
    "collapsed": false
   },
   "id": "f52975d60e30b140"
  },
  {
   "cell_type": "code",
   "execution_count": 24,
   "outputs": [
    {
     "name": "stdout",
     "output_type": "stream",
     "text": [
      "[[0 0 0 0 0]\n",
      " [1 0 0 0 0]\n",
      " [0 2 0 0 0]\n",
      " [0 0 3 0 0]\n",
      " [0 0 0 4 0]]\n"
     ]
    }
   ],
   "source": [
    "a = np.diag(1+np.arange(4), k=-1)\n",
    "print(a)"
   ],
   "metadata": {
    "collapsed": false,
    "ExecuteTime": {
     "end_time": "2024-01-04T02:08:08.488441800Z",
     "start_time": "2024-01-04T02:08:08.481452200Z"
    }
   },
   "id": "b140ffbb8a37d5b0"
  },
  {
   "cell_type": "markdown",
   "source": [
    "创建一个8*8的矩阵，并且设置成棋盘样式"
   ],
   "metadata": {
    "collapsed": false
   },
   "id": "d0664e1c21cd7514"
  },
  {
   "cell_type": "code",
   "execution_count": 25,
   "outputs": [
    {
     "name": "stdout",
     "output_type": "stream",
     "text": [
      "[[0 1 0 1 0 1 0 1]\n",
      " [1 0 1 0 1 0 1 0]\n",
      " [0 1 0 1 0 1 0 1]\n",
      " [1 0 1 0 1 0 1 0]\n",
      " [0 1 0 1 0 1 0 1]\n",
      " [1 0 1 0 1 0 1 0]\n",
      " [0 1 0 1 0 1 0 1]\n",
      " [1 0 1 0 1 0 1 0]]\n"
     ]
    }
   ],
   "source": [
    "a = np.zeros((8,8),dtype=int)\n",
    "a[1::2,::2] = 1\n",
    "a[::2,1::2] = 1\n",
    "print(a)"
   ],
   "metadata": {
    "collapsed": false,
    "ExecuteTime": {
     "end_time": "2024-01-04T02:08:58.595547400Z",
     "start_time": "2024-01-04T02:08:58.586068600Z"
    }
   },
   "id": "ea6341a4777e2e4d"
  },
  {
   "cell_type": "markdown",
   "source": [
    "考虑一个(6,7,8)形状的数组，其第100个元素的索引(x,y,z)是什么？"
   ],
   "metadata": {
    "collapsed": false
   },
   "id": "41f8ceca3af8a08b"
  },
  {
   "cell_type": "code",
   "execution_count": 26,
   "outputs": [
    {
     "name": "stdout",
     "output_type": "stream",
     "text": [
      "(1, 5, 4)\n"
     ]
    }
   ],
   "source": [
    "Z=np.unravel_index(100,(6,7,8))\n",
    "print(Z)"
   ],
   "metadata": {
    "collapsed": false,
    "ExecuteTime": {
     "end_time": "2024-01-04T02:33:16.483586900Z",
     "start_time": "2024-01-04T02:33:16.475104700Z"
    }
   },
   "id": "2d4ed8280ecbe351"
  },
  {
   "cell_type": "code",
   "execution_count": null,
   "outputs": [],
   "source": [],
   "metadata": {
    "collapsed": false
   },
   "id": "ef75e1b18b9f3668"
  },
  {
   "cell_type": "markdown",
   "source": [
    "用tile函数去创建一个8*8的棋盘样式矩阵\n",
    "tile(a,x):   x是控制a重复几次的，结果是一个一维数组\n",
    "tile(a,(x,y))：   结果是一个二维矩阵，其中行数为x，列数是一维数组a的长度和y的乘积\n",
    "tile(a,(x,y,z)):   结果是一个三维矩阵，其中矩阵的行数为x，矩阵的列数为y，而z表示矩阵每个单元格里a重复的次数。(三维矩阵可以看成一个二维矩阵，每个矩阵的单元格里存者一个一维矩阵a)\n",
    "————————————————\n",
    "版权声明：本文为CSDN博主「为爱存在」的原创文章，遵循CC 4.0 BY-SA版权协议，转载请附上原文出处链接及本声明。\n",
    "原文链接：https://blog.csdn.net/baiyu9821179/article/details/53364731"
   ],
   "metadata": {
    "collapsed": false
   },
   "id": "409c910779913180"
  },
  {
   "cell_type": "markdown",
   "source": [
    "a = np.tile(np.array([[0,1],[1,0]]), (4,4))\n",
    "print(a)"
   ],
   "metadata": {
    "collapsed": false
   },
   "id": "39bff3296c049981"
  },
  {
   "cell_type": "markdown",
   "source": [
    "对于一个5*5的矩阵做归一化：(x-min)/(max-min)"
   ],
   "metadata": {
    "collapsed": false
   },
   "id": "4dfe5309987a63b4"
  },
  {
   "cell_type": "code",
   "execution_count": 28,
   "outputs": [
    {
     "name": "stdout",
     "output_type": "stream",
     "text": [
      "[[0.47365838 0.32534098 0.28587553 0.95194499 0.225451  ]\n",
      " [0.21970903 0.27052951 0.15469609 0.26805919 0.22778798]\n",
      " [0.46479108 0.9985299  0.44037702 0.20186506 0.47220429]\n",
      " [0.37541134 0.20505329 0.31075854 0.40072207 0.03854375]\n",
      " [0.83535208 0.73317773 0.96619541 0.33470253 0.16658284]]\n",
      "[[0.45325094 0.29875142 0.25764099 0.95147335 0.19469786]\n",
      " [0.18871655 0.24165532 0.12099377 0.23908204 0.19713225]\n",
      " [0.44401404 1.         0.41858236 0.17012881 0.45173624]\n",
      " [0.3509088  0.17344994 0.28356116 0.37727453 0.        ]\n",
      " [0.83002065 0.72358751 0.96631775 0.30850318 0.13337598]]\n"
     ]
    }
   ],
   "source": [
    "a = np.random.random((5,5))\n",
    "print(a)\n",
    "a_max, a_min = a.max(), a.min()\n",
    "a = (a-a_min)/(a_max-a_min)\n",
    "print(a)"
   ],
   "metadata": {
    "collapsed": false,
    "ExecuteTime": {
     "end_time": "2024-01-04T02:39:41.228078200Z",
     "start_time": "2024-01-04T02:39:41.195306Z"
    }
   },
   "id": "6e01b5ffcf5ef768"
  },
  {
   "cell_type": "markdown",
   "source": [
    "创建一个将颜色描述为(RGBA)四个无符号字节的自定义dtype"
   ],
   "metadata": {
    "collapsed": false
   },
   "id": "cd0c55f19212c41c"
  },
  {
   "cell_type": "code",
   "execution_count": 29,
   "outputs": [
    {
     "name": "stdout",
     "output_type": "stream",
     "text": [
      "[('r', 'u1'), ('g', 'u1'), ('b', 'u1'), ('a', 'u1')]\n"
     ]
    },
    {
     "name": "stderr",
     "output_type": "stream",
     "text": [
      "C:\\Users\\pc\\AppData\\Local\\Temp\\ipykernel_29372\\223739713.py:1: FutureWarning: Passing (type, 1) or '1type' as a synonym of type is deprecated; in a future version of numpy, it will be understood as (type, (1,)) / '(1,)type'.\n",
      "  color = np.dtype([(\"r\", np.ubyte, 1),\n"
     ]
    }
   ],
   "source": [
    "color = np.dtype([(\"r\", np.ubyte, 1),\n",
    "                  (\"g\", np.ubyte, 1),\n",
    "                  (\"b\", np.ubyte, 1),\n",
    "                  (\"a\", np.ubyte, 1)])\n",
    "print(color)"
   ],
   "metadata": {
    "collapsed": false,
    "ExecuteTime": {
     "end_time": "2024-01-04T02:40:41.433158300Z",
     "start_time": "2024-01-04T02:40:41.416156600Z"
    }
   },
   "id": "b97e07a94ac4b221"
  },
  {
   "cell_type": "markdown",
   "source": [
    "一个5*3的矩阵与一个3*2的矩阵相乘，实矩阵乘积是什么\n",
    "5*2的矩阵"
   ],
   "metadata": {
    "collapsed": false
   },
   "id": "ce0a76580ca66dff"
  },
  {
   "cell_type": "code",
   "execution_count": 30,
   "outputs": [
    {
     "name": "stdout",
     "output_type": "stream",
     "text": [
      "[[3. 3.]\n",
      " [3. 3.]\n",
      " [3. 3.]\n",
      " [3. 3.]\n",
      " [3. 3.]]\n"
     ]
    }
   ],
   "source": [
    "a = np.dot(np.ones((5,3)), np.ones((3,2)))\n",
    "print(a)"
   ],
   "metadata": {
    "collapsed": false,
    "ExecuteTime": {
     "end_time": "2024-01-04T02:41:55.824729400Z",
     "start_time": "2024-01-04T02:41:55.814510500Z"
    }
   },
   "id": "2407a7c9637b2dff"
  },
  {
   "cell_type": "markdown",
   "source": [
    "给定一个一维数组，对其在3到8之间的所有元素取反"
   ],
   "metadata": {
    "collapsed": false
   },
   "id": "f523a9589b9cc13a"
  },
  {
   "cell_type": "code",
   "execution_count": 31,
   "outputs": [
    {
     "name": "stdout",
     "output_type": "stream",
     "text": [
      "[ 0  1  2  3  4  5  6  7  8  9 10]\n",
      "[ 0  1  2  3 -4 -5 -6 -7 -8  9 10]\n"
     ]
    }
   ],
   "source": [
    "a = np.arange(11)\n",
    "print(a)\n",
    "a[(3<a)&(a<=8)] *= -1\n",
    "print(a)"
   ],
   "metadata": {
    "collapsed": false,
    "ExecuteTime": {
     "end_time": "2024-01-04T02:43:11.560481500Z",
     "start_time": "2024-01-04T02:43:11.550474Z"
    }
   },
   "id": "29cbc7eebd0e0b84"
  },
  {
   "cell_type": "markdown",
   "source": [
    "sum与np.sum的区别"
   ],
   "metadata": {
    "collapsed": false
   },
   "id": "43833334320b485b"
  },
  {
   "cell_type": "code",
   "execution_count": 34,
   "outputs": [
    {
     "name": "stdout",
     "output_type": "stream",
     "text": [
      "9\n",
      "10\n"
     ]
    }
   ],
   "source": [
    "print(sum(range(5),-1))\n",
    "print(np.sum(range(5),-1))"
   ],
   "metadata": {
    "collapsed": false,
    "ExecuteTime": {
     "end_time": "2024-01-04T02:44:33.750635700Z",
     "start_time": "2024-01-04T02:44:33.746916100Z"
    }
   },
   "id": "e7f47a37dd3d0641"
  },
  {
   "cell_type": "markdown",
   "source": [
    "考虑一个整数向量Z,下列表达合法的是哪个？\n",
    "Z**Z    True\n",
    "2 << Z >> 2  False      \n",
    "Z <- Z  False\n",
    "1j*Z  True  复数\n",
    "Z/1/1  True\n",
    "Z<Z>Z False"
   ],
   "metadata": {
    "collapsed": false
   },
   "id": "7b07ea852b2ac050"
  },
  {
   "cell_type": "markdown",
   "source": [],
   "metadata": {
    "collapsed": false
   },
   "id": "e2183cb821a41385"
  },
  {
   "cell_type": "markdown",
   "source": [
    "下列表达式的结果分别是什么？"
   ],
   "metadata": {
    "collapsed": false
   },
   "id": "fc5d36def62de976"
  },
  {
   "cell_type": "code",
   "execution_count": 36,
   "outputs": [
    {
     "name": "stderr",
     "output_type": "stream",
     "text": [
      "C:\\Users\\pc\\AppData\\Local\\Temp\\ipykernel_29372\\3272234849.py:1: RuntimeWarning: invalid value encountered in divide\n",
      "  np.array(0) / np.array(0)\n"
     ]
    },
    {
     "data": {
      "text/plain": "nan"
     },
     "execution_count": 36,
     "metadata": {},
     "output_type": "execute_result"
    }
   ],
   "source": [
    "np.array(0) / np.array(0)"
   ],
   "metadata": {
    "collapsed": false,
    "ExecuteTime": {
     "end_time": "2024-01-04T02:48:08.826378100Z",
     "start_time": "2024-01-04T02:48:08.812460500Z"
    }
   },
   "id": "9a21c2ff12fab48"
  },
  {
   "cell_type": "code",
   "execution_count": 37,
   "outputs": [
    {
     "name": "stderr",
     "output_type": "stream",
     "text": [
      "C:\\Users\\pc\\AppData\\Local\\Temp\\ipykernel_29372\\474058805.py:1: RuntimeWarning: divide by zero encountered in floor_divide\n",
      "  np.array(0) // np.array(0)\n"
     ]
    },
    {
     "data": {
      "text/plain": "0"
     },
     "execution_count": 37,
     "metadata": {},
     "output_type": "execute_result"
    }
   ],
   "source": [
    "np.array(0) // np.array(0)"
   ],
   "metadata": {
    "collapsed": false,
    "ExecuteTime": {
     "end_time": "2024-01-04T02:48:14.098855900Z",
     "start_time": "2024-01-04T02:48:14.078982800Z"
    }
   },
   "id": "8331c46c71eb8fa7"
  },
  {
   "cell_type": "code",
   "execution_count": 38,
   "outputs": [
    {
     "name": "stderr",
     "output_type": "stream",
     "text": [
      "C:\\Users\\pc\\AppData\\Local\\Temp\\ipykernel_29372\\3822400139.py:1: RuntimeWarning: invalid value encountered in cast\n",
      "  np.array([np.nan]).astype(int).astype(float)\n"
     ]
    },
    {
     "data": {
      "text/plain": "array([-2.14748365e+09])"
     },
     "execution_count": 38,
     "metadata": {},
     "output_type": "execute_result"
    }
   ],
   "source": [
    "np.array([np.nan]).astype(int).astype(float)"
   ],
   "metadata": {
    "collapsed": false,
    "ExecuteTime": {
     "end_time": "2024-01-04T02:48:28.858158900Z",
     "start_time": "2024-01-04T02:48:28.834110100Z"
    }
   },
   "id": "47212bd7c25791e2"
  },
  {
   "cell_type": "markdown",
   "source": [
    "如何从零位对浮点数组做舍入 ?"
   ],
   "metadata": {
    "collapsed": false
   },
   "id": "a78d6c7d3d605269"
  },
  {
   "cell_type": "code",
   "execution_count": 40,
   "outputs": [
    {
     "name": "stdout",
     "output_type": "stream",
     "text": [
      "[-9.85183369  4.91293425  5.96768996  7.01074246  3.40312235 -3.95045585\n",
      "  4.19905364  1.45699997  0.58718751  8.744906  ]\n",
      "[-10.   5.   6.   8.   4.  -4.   5.   2.   1.   9.]\n"
     ]
    }
   ],
   "source": [
    "a = np.random.uniform(-10,+10,10)\n",
    "print(a)\n",
    "print(np.copysign(np.ceil(np.abs(a)), a))"
   ],
   "metadata": {
    "collapsed": false,
    "ExecuteTime": {
     "end_time": "2024-01-04T02:51:47.478826500Z",
     "start_time": "2024-01-04T02:51:47.457168600Z"
    }
   },
   "id": "b373ff6bbf15fbc"
  },
  {
   "cell_type": "markdown",
   "source": [
    "如何找到两个数组中的共同元素?"
   ],
   "metadata": {
    "collapsed": false
   },
   "id": "fc272d90b6606c52"
  },
  {
   "cell_type": "code",
   "execution_count": 41,
   "outputs": [
    {
     "name": "stdout",
     "output_type": "stream",
     "text": [
      "[1 6 5 5 1 7 2 1 3 5]\n",
      "[5 6 3 3 4 2 1 0 8 2]\n",
      "[1 2 3 5 6]\n"
     ]
    }
   ],
   "source": [
    "a1 = np.random.randint(0,10,10)\n",
    "a2 = np.random.randint(0,10,10)\n",
    "print(a1)\n",
    "print(a2)\n",
    "print(np.intersect1d(a1,a2))"
   ],
   "metadata": {
    "collapsed": false,
    "ExecuteTime": {
     "end_time": "2024-01-04T02:52:38.451937800Z",
     "start_time": "2024-01-04T02:52:38.434450800Z"
    }
   },
   "id": "b23a27fd0a08df30"
  },
  {
   "cell_type": "markdown",
   "source": [
    "如何忽略所有的 numpy 警告(尽管不建议这么做)?"
   ],
   "metadata": {
    "collapsed": false
   },
   "id": "35b51555bb985360"
  },
  {
   "cell_type": "code",
   "execution_count": 42,
   "outputs": [],
   "source": [
    "defaults = np.seterr(all=\"ignore\")\n",
    "Z = np.ones(1) / 0"
   ],
   "metadata": {
    "collapsed": false,
    "ExecuteTime": {
     "end_time": "2024-01-04T02:53:06.891133500Z",
     "start_time": "2024-01-04T02:53:06.872171700Z"
    }
   },
   "id": "36159ae07e897483"
  },
  {
   "cell_type": "markdown",
   "source": [
    "Back to sanity"
   ],
   "metadata": {
    "collapsed": false
   },
   "id": "501104096c26965"
  },
  {
   "cell_type": "code",
   "execution_count": 43,
   "outputs": [],
   "source": [
    "_ = np.seterr(**defaults)"
   ],
   "metadata": {
    "collapsed": false,
    "ExecuteTime": {
     "end_time": "2024-01-04T02:55:03.325095200Z",
     "start_time": "2024-01-04T02:55:03.305800200Z"
    }
   },
   "id": "d3ae28a049db3a3b"
  },
  {
   "cell_type": "markdown",
   "source": [
    "另一个等价的方式，使用上下文管理器"
   ],
   "metadata": {
    "collapsed": false
   },
   "id": "9a10b6f62bf889b1"
  },
  {
   "cell_type": "code",
   "execution_count": 44,
   "outputs": [],
   "source": [
    "with np.errstate(divide='ignore'):\n",
    "    Z = np.ones(1) / 0"
   ],
   "metadata": {
    "collapsed": false,
    "ExecuteTime": {
     "end_time": "2024-01-04T02:55:58.361554600Z",
     "start_time": "2024-01-04T02:55:58.341093600Z"
    }
   },
   "id": "ec36002e55db1f13"
  },
  {
   "cell_type": "markdown",
   "source": [
    "下面的表达式是正确的吗?\n",
    "np.sqrt(-1) == np.emath.sqrt(-1)"
   ],
   "metadata": {
    "collapsed": false
   },
   "id": "542c35aa7c8f4770"
  },
  {
   "cell_type": "code",
   "execution_count": 45,
   "outputs": [
    {
     "name": "stderr",
     "output_type": "stream",
     "text": [
      "C:\\Users\\pc\\AppData\\Local\\Temp\\ipykernel_29372\\3357785714.py:1: RuntimeWarning: invalid value encountered in sqrt\n",
      "  np.sqrt(-1)==np.emath.sqrt(-1)\n"
     ]
    },
    {
     "data": {
      "text/plain": "False"
     },
     "execution_count": 45,
     "metadata": {},
     "output_type": "execute_result"
    }
   ],
   "source": [
    "np.sqrt(-1)==np.emath.sqrt(-1)"
   ],
   "metadata": {
    "collapsed": false,
    "ExecuteTime": {
     "end_time": "2024-01-04T02:57:12.171843700Z",
     "start_time": "2024-01-04T02:57:12.150890300Z"
    }
   },
   "id": "242be3fc33e3f3fd"
  },
  {
   "cell_type": "markdown",
   "source": [
    "如何得到昨天，今天，明天的日期?"
   ],
   "metadata": {
    "collapsed": false
   },
   "id": "954995eb53e4d209"
  },
  {
   "cell_type": "code",
   "execution_count": 47,
   "outputs": [
    {
     "name": "stdout",
     "output_type": "stream",
     "text": [
      "2024-01-03\n",
      "2024-01-04\n",
      "2024-01-05\n"
     ]
    }
   ],
   "source": [
    "yesterday = np.datetime64('today', 'D') - np.timedelta64(1, 'D')\n",
    "today = np.datetime64('today', 'D')\n",
    "tomorrow = np.datetime64('today', 'D') + np.timedelta64(1, 'D')\n",
    "print(yesterday)\n",
    "print(today)\n",
    "print(tomorrow)"
   ],
   "metadata": {
    "collapsed": false,
    "ExecuteTime": {
     "end_time": "2024-01-04T02:59:00.153290100Z",
     "start_time": "2024-01-04T02:59:00.147666700Z"
    }
   },
   "id": "9cf7a2a356e9ca5d"
  },
  {
   "cell_type": "markdown",
   "source": [
    "如何得到所有与2016年7月对应的日期？"
   ],
   "metadata": {
    "collapsed": false
   },
   "id": "d37bbed4d474ce26"
  },
  {
   "cell_type": "code",
   "execution_count": 48,
   "outputs": [
    {
     "name": "stdout",
     "output_type": "stream",
     "text": [
      "['2016-07-01' '2016-07-02' '2016-07-03' '2016-07-04' '2016-07-05'\n",
      " '2016-07-06' '2016-07-07' '2016-07-08' '2016-07-09' '2016-07-10'\n",
      " '2016-07-11' '2016-07-12' '2016-07-13' '2016-07-14' '2016-07-15'\n",
      " '2016-07-16' '2016-07-17' '2016-07-18' '2016-07-19' '2016-07-20'\n",
      " '2016-07-21' '2016-07-22' '2016-07-23' '2016-07-24' '2016-07-25'\n",
      " '2016-07-26' '2016-07-27' '2016-07-28' '2016-07-29' '2016-07-30'\n",
      " '2016-07-31']\n"
     ]
    }
   ],
   "source": [
    "a = np.arange('2016-07', '2016-08', dtype='datetime64[D]')  # 日期格式必须是这样的 2016-07    不能是2016-7   2016-07-01  2016-07-1   2016-7-01  2016-7-1 这些都不行   2016-07-01这种格式可以    2016-7-01这种格式不行  2016-07-1这种格式不行    2016-7-1这种格式不行  2016-07-01 00:00:00这种格式不行   2016-7-1 00:00:00这种格式不行 2016-07-01 00:00:00.000000这种格式不行  2016-7-1 00:00:00.000000这种格式不行    2016-07-01 00:00:00.000000000这种格式不行  2016-7-1 00:00:00.000000000这种格式不行  2016-07-01 00:00:00.00000000000000000\n",
    "print(a)"
   ],
   "metadata": {
    "collapsed": false,
    "ExecuteTime": {
     "end_time": "2024-01-04T03:00:47.199012200Z",
     "start_time": "2024-01-04T03:00:47.178056700Z"
    }
   },
   "id": "9f1e5d3386beea9d"
  },
  {
   "cell_type": "markdown",
   "source": [
    "如何直接在位计算(A+B)\\*(-A/2)(不建立中间变量)?"
   ],
   "metadata": {
    "collapsed": false
   },
   "id": "d8c2c4f085439b63"
  },
  {
   "cell_type": "code",
   "execution_count": 50,
   "outputs": [
    {
     "name": "stdout",
     "output_type": "stream",
     "text": [
      "[-1.5 -1.5 -1.5]\n"
     ]
    }
   ],
   "source": [
    "a = np.ones(3)*1\n",
    "b = np.ones(3)*2\n",
    "c = np.ones(3)*3\n",
    "np.add(a,b,out=b)\n",
    "np.divide(a,2,out=a)\n",
    "np.negative(a,out=a)\n",
    "np.multiply(a,b,out=a)\n",
    "print(a)"
   ],
   "metadata": {
    "collapsed": false,
    "ExecuteTime": {
     "end_time": "2024-01-04T03:04:50.231169Z",
     "start_time": "2024-01-04T03:04:50.226739400Z"
    }
   },
   "id": "38a36063ab2f7122"
  },
  {
   "cell_type": "markdown",
   "source": [
    "用五种不同的方法去提取一个随机数组的整数部分"
   ],
   "metadata": {
    "collapsed": false
   },
   "id": "2181b24b51026951"
  },
  {
   "cell_type": "code",
   "execution_count": 51,
   "outputs": [
    {
     "name": "stdout",
     "output_type": "stream",
     "text": [
      "[4.93432633 1.42843384 0.57426803 0.51489421 9.08396204 3.44892553\n",
      " 2.28959692 3.67679066 2.91199421 6.87227594]\n",
      "[4. 1. 0. 0. 9. 3. 2. 3. 2. 6.]\n",
      "[4. 1. 0. 0. 9. 3. 2. 3. 2. 6.]\n",
      "[4. 1. 0. 0. 9. 3. 2. 3. 2. 6.]\n",
      "[4 1 0 0 9 3 2 3 2 6]\n",
      "[4. 1. 0. 0. 9. 3. 2. 3. 2. 6.]\n"
     ]
    }
   ],
   "source": [
    "a = np.random.uniform(0,10,10)\n",
    "print(a)\n",
    "print(a-a%1)\n",
    "print(np.floor(a))\n",
    "print(np.ceil(a)-1)\n",
    "print(a.astype(int))\n",
    "print(np.trunc(a))"
   ],
   "metadata": {
    "collapsed": false,
    "ExecuteTime": {
     "end_time": "2024-01-04T03:05:35.802658700Z",
     "start_time": "2024-01-04T03:05:35.778614600Z"
    }
   },
   "id": "eecfc7670755931d"
  },
  {
   "cell_type": "markdown",
   "source": [
    "创建一个5*5的矩阵，其中每行的数值范围从0到4"
   ],
   "metadata": {
    "collapsed": false
   },
   "id": "1af23121e3caaf56"
  },
  {
   "cell_type": "code",
   "execution_count": 52,
   "outputs": [
    {
     "name": "stdout",
     "output_type": "stream",
     "text": [
      "[[0. 1. 2. 3. 4.]\n",
      " [0. 1. 2. 3. 4.]\n",
      " [0. 1. 2. 3. 4.]\n",
      " [0. 1. 2. 3. 4.]\n",
      " [0. 1. 2. 3. 4.]]\n"
     ]
    }
   ],
   "source": [
    "a = np.zeros((5,5))\n",
    "a += np.arange(5)\n",
    "print(a)"
   ],
   "metadata": {
    "collapsed": false,
    "ExecuteTime": {
     "end_time": "2024-01-04T03:06:14.317230300Z",
     "start_time": "2024-01-04T03:06:14.292764300Z"
    }
   },
   "id": "cda03f865eb659d2"
  },
  {
   "cell_type": "markdown",
   "source": [
    "如何用一个生成10个整数的函数来构建数组？"
   ],
   "metadata": {
    "collapsed": false
   },
   "id": "c9a3a258084d2867"
  },
  {
   "cell_type": "code",
   "execution_count": 53,
   "outputs": [
    {
     "name": "stdout",
     "output_type": "stream",
     "text": [
      "[0. 1. 2. 3. 4. 5. 6. 7. 8. 9.]\n"
     ]
    }
   ],
   "source": [
    "def generate():\n",
    "    for x in range(10):\n",
    "        yield x\n",
    "a = np.fromiter(generate(),dtype=float,count=-1)\n",
    "print(a)"
   ],
   "metadata": {
    "collapsed": false,
    "ExecuteTime": {
     "end_time": "2024-01-04T03:08:26.695388600Z",
     "start_time": "2024-01-04T03:08:26.672929200Z"
    }
   },
   "id": "5f6b8c8f3654a09f"
  },
  {
   "cell_type": "markdown",
   "source": [
    "创建一个长度为10的向量，值域为0到1，不包括0和1"
   ],
   "metadata": {
    "collapsed": false
   },
   "id": "4830140824e44c0c"
  },
  {
   "cell_type": "code",
   "execution_count": 54,
   "outputs": [
    {
     "name": "stdout",
     "output_type": "stream",
     "text": [
      "[0.09090909 0.18181818 0.27272727 0.36363636 0.45454545 0.54545455\n",
      " 0.63636364 0.72727273 0.81818182 0.90909091]\n"
     ]
    }
   ],
   "source": [
    "a = np.linspace(0,1,11,endpoint=False)[1:]\n",
    "print(a)"
   ],
   "metadata": {
    "collapsed": false,
    "ExecuteTime": {
     "end_time": "2024-01-04T03:09:12.206123700Z",
     "start_time": "2024-01-04T03:09:12.180575600Z"
    }
   },
   "id": "d16c66558293f26e"
  },
  {
   "cell_type": "markdown",
   "source": [
    "创建一个长度为10的随机向量，并排序"
   ],
   "metadata": {
    "collapsed": false
   },
   "id": "d88b2a51b21196fa"
  },
  {
   "cell_type": "code",
   "execution_count": 55,
   "outputs": [
    {
     "name": "stdout",
     "output_type": "stream",
     "text": [
      "[0.06173743 0.31179363 0.31448625 0.34874775 0.4045858  0.63775893\n",
      " 0.69014309 0.76472745 0.92201337 0.9763816 ]\n"
     ]
    }
   ],
   "source": [
    "a=np.random.random(10)\n",
    "a.sort()\n",
    "print(a)"
   ],
   "metadata": {
    "collapsed": false,
    "ExecuteTime": {
     "end_time": "2024-01-04T03:23:02.142774800Z",
     "start_time": "2024-01-04T03:23:02.119247800Z"
    }
   },
   "id": "d658e35c5d2f846a"
  },
  {
   "cell_type": "markdown",
   "source": [
    "对于一个小数组，如何用比 np.sum更快的方式对其求和？\n"
   ],
   "metadata": {
    "collapsed": false
   },
   "id": "1bfdfe0c624c6f48"
  },
  {
   "cell_type": "code",
   "execution_count": 56,
   "outputs": [
    {
     "data": {
      "text/plain": "45"
     },
     "execution_count": 56,
     "metadata": {},
     "output_type": "execute_result"
    }
   ],
   "source": [
    "a = np.arange(10)\n",
    "np.add.reduce(a)\n"
   ],
   "metadata": {
    "collapsed": false,
    "ExecuteTime": {
     "end_time": "2024-01-04T03:23:43.260087400Z",
     "start_time": "2024-01-04T03:23:43.234474400Z"
    }
   },
   "id": "ea827649a2fda13d"
  },
  {
   "cell_type": "markdown",
   "source": [
    "np.add.reduce是numpy.add模块中的一个函数，它的作用是对数组中的元素进行累加操作，即返回一个数组所有元素的和。\n"
   ],
   "metadata": {
    "collapsed": false
   },
   "id": "cc60823d8f902fb0"
  },
  {
   "cell_type": "markdown",
   "source": [
    "对于两个随机数组A和B，检查它们是否相等"
   ],
   "metadata": {
    "collapsed": false
   },
   "id": "85079ce682cd3521"
  },
  {
   "cell_type": "code",
   "execution_count": 57,
   "outputs": [
    {
     "name": "stdout",
     "output_type": "stream",
     "text": [
      "False\n"
     ]
    }
   ],
   "source": [
    "a = np.random.randint(0,2,5)\n",
    "b = np.random.randint(0,2,5)\n",
    "equal = np.allclose(a,b)\n",
    "print(equal)"
   ],
   "metadata": {
    "collapsed": false,
    "ExecuteTime": {
     "end_time": "2024-01-04T03:25:05.698859900Z",
     "start_time": "2024-01-04T03:25:05.672420800Z"
    }
   },
   "id": "8b62fc1c60b34e7b"
  },
  {
   "cell_type": "markdown",
   "source": [
    "创建一个只读数组(read-only)"
   ],
   "metadata": {
    "collapsed": false
   },
   "id": "f554b89936557aaa"
  },
  {
   "cell_type": "code",
   "execution_count": 58,
   "outputs": [
    {
     "ename": "ValueError",
     "evalue": "assignment destination is read-only",
     "output_type": "error",
     "traceback": [
      "\u001B[1;31m---------------------------------------------------------------------------\u001B[0m",
      "\u001B[1;31mValueError\u001B[0m                                Traceback (most recent call last)",
      "Cell \u001B[1;32mIn[58], line 3\u001B[0m\n\u001B[0;32m      1\u001B[0m a \u001B[38;5;241m=\u001B[39m np\u001B[38;5;241m.\u001B[39mzeros(\u001B[38;5;241m10\u001B[39m)\n\u001B[0;32m      2\u001B[0m a\u001B[38;5;241m.\u001B[39mflags\u001B[38;5;241m.\u001B[39mwriteable \u001B[38;5;241m=\u001B[39m \u001B[38;5;28;01mFalse\u001B[39;00m\n\u001B[1;32m----> 3\u001B[0m a[\u001B[38;5;241m0\u001B[39m] \u001B[38;5;241m=\u001B[39m \u001B[38;5;241m1\u001B[39m\n",
      "\u001B[1;31mValueError\u001B[0m: assignment destination is read-only"
     ]
    }
   ],
   "source": [
    "a = np.zeros(10)\n",
    "a.flags.writeable = False\n",
    "a[0] = 1"
   ],
   "metadata": {
    "collapsed": false,
    "ExecuteTime": {
     "end_time": "2024-01-04T03:25:29.344022Z",
     "start_time": "2024-01-04T03:25:29.317373900Z"
    }
   },
   "id": "9c7d769325443479"
  },
  {
   "cell_type": "markdown",
   "source": [
    "将笛卡尔坐标下的一个10*2的矩阵转换为极坐标形式\n"
   ],
   "metadata": {
    "collapsed": false
   },
   "id": "733a2cd041af0610"
  },
  {
   "cell_type": "code",
   "execution_count": 59,
   "outputs": [
    {
     "name": "stdout",
     "output_type": "stream",
     "text": [
      "[1.05670625 0.62901323 0.41732934 0.62129503 0.96190686 0.87853043\n",
      " 0.6135099  0.98372528 1.17365459 0.69973345]\n",
      "[0.62648885 0.60866067 1.53987258 0.69070185 1.17681426 0.46711373\n",
      " 0.08918736 0.69032398 0.8860678  0.36560124]\n"
     ]
    }
   ],
   "source": [
    "a = np.random.random((10,2))\n",
    "x,y = a[:,0], a[:,1]\n",
    "r = np.sqrt(x**2+y**2)\n",
    "t = np.arctan2(y,x) #arctan2(y,x)是求y/x的反正切值，返回值的范围是[-pi,pi]\n",
    "print(r)\n",
    "print(t)"
   ],
   "metadata": {
    "collapsed": false,
    "ExecuteTime": {
     "end_time": "2024-01-04T03:26:45.813523Z",
     "start_time": "2024-01-04T03:26:45.785780500Z"
    }
   },
   "id": "d5fb87efbc1227c7"
  },
  {
   "cell_type": "markdown",
   "source": [
    "创建一个长度为10的向量，并将向量中最大值替换为0"
   ],
   "metadata": {
    "collapsed": false
   },
   "id": "4a535eec3586df91"
  },
  {
   "cell_type": "code",
   "execution_count": 60,
   "outputs": [
    {
     "name": "stdout",
     "output_type": "stream",
     "text": [
      "[0.         0.08973939 0.46878546 0.69975978 0.70731401 0.61829126\n",
      " 0.27613406 0.90673054 0.51439782 0.39424871]\n"
     ]
    }
   ],
   "source": [
    "a = np.random.random(10)\n",
    "a[a.argmax()] = 0\n",
    "print(a)"
   ],
   "metadata": {
    "collapsed": false,
    "ExecuteTime": {
     "end_time": "2024-01-04T03:27:22.558089100Z",
     "start_time": "2024-01-04T03:27:22.531113300Z"
    }
   },
   "id": "528844fcbad9ed97"
  },
  {
   "cell_type": "markdown",
   "source": [
    "创建一个结构化数组，并实现x和y坐标覆盖[0,1]x[0,1]区域"
   ],
   "metadata": {
    "collapsed": false
   },
   "id": "db2ac50d6ae00708"
  },
  {
   "cell_type": "code",
   "execution_count": 61,
   "outputs": [
    {
     "name": "stdout",
     "output_type": "stream",
     "text": [
      "[[(0., 0.) (0., 0.) (0., 0.) (0., 0.) (0., 0.)]\n",
      " [(0., 0.) (0., 0.) (0., 0.) (0., 0.) (0., 0.)]\n",
      " [(0., 0.) (0., 0.) (0., 0.) (0., 0.) (0., 0.)]\n",
      " [(0., 0.) (0., 0.) (0., 0.) (0., 0.) (0., 0.)]\n",
      " [(0., 0.) (0., 0.) (0., 0.) (0., 0.) (0., 0.)]]\n",
      "[[(0.  , 0.  ) (0.25, 0.  ) (0.5 , 0.  ) (0.75, 0.  ) (1.  , 0.  )]\n",
      " [(0.  , 0.25) (0.25, 0.25) (0.5 , 0.25) (0.75, 0.25) (1.  , 0.25)]\n",
      " [(0.  , 0.5 ) (0.25, 0.5 ) (0.5 , 0.5 ) (0.75, 0.5 ) (1.  , 0.5 )]\n",
      " [(0.  , 0.75) (0.25, 0.75) (0.5 , 0.75) (0.75, 0.75) (1.  , 0.75)]\n",
      " [(0.  , 1.  ) (0.25, 1.  ) (0.5 , 1.  ) (0.75, 1.  ) (1.  , 1.  )]]\n"
     ]
    }
   ],
   "source": [
    "a = np.zeros((5,5), [('x',float),('y',float)])\n",
    "print(a)\n",
    "a['x'], a['y'] = np.meshgrid(np.linspace(0,1,5),\n",
    "                             np.linspace(0,1,5))\n",
    "print(a)"
   ],
   "metadata": {
    "collapsed": false,
    "ExecuteTime": {
     "end_time": "2024-01-04T03:28:29.055107900Z",
     "start_time": "2024-01-04T03:28:29.022145200Z"
    }
   },
   "id": "4f3bf88261490009"
  },
  {
   "cell_type": "markdown",
   "source": [
    "给定两个数组X和Y，构造Cauchy矩阵C (Cij =1/(xi - yj))"
   ],
   "metadata": {
    "collapsed": false
   },
   "id": "715af8db8e2e178a"
  },
  {
   "cell_type": "code",
   "execution_count": 62,
   "outputs": [
    {
     "name": "stdout",
     "output_type": "stream",
     "text": [
      "[[-2.         -0.66666667 -0.4        -0.28571429 -0.22222222 -0.18181818\n",
      "  -0.15384615 -0.13333333]\n",
      " [ 2.         -2.         -0.66666667 -0.4        -0.28571429 -0.22222222\n",
      "  -0.18181818 -0.15384615]\n",
      " [ 0.66666667  2.         -2.         -0.66666667 -0.4        -0.28571429\n",
      "  -0.22222222 -0.18181818]\n",
      " [ 0.4         0.66666667  2.         -2.         -0.66666667 -0.4\n",
      "  -0.28571429 -0.22222222]\n",
      " [ 0.28571429  0.4         0.66666667  2.         -2.         -0.66666667\n",
      "  -0.4        -0.28571429]\n",
      " [ 0.22222222  0.28571429  0.4         0.66666667  2.         -2.\n",
      "  -0.66666667 -0.4       ]\n",
      " [ 0.18181818  0.22222222  0.28571429  0.4         0.66666667  2.\n",
      "  -2.         -0.66666667]\n",
      " [ 0.15384615  0.18181818  0.22222222  0.28571429  0.4         0.66666667\n",
      "   2.         -2.        ]]\n",
      "3638.163637117973\n"
     ]
    }
   ],
   "source": [
    "x = np.arange(8)\n",
    "y = x + 0.5\n",
    "c= 1.0 / np.subtract.outer(x,y)\n",
    "print(c)\n",
    "print(np.linalg.det(c)) "
   ],
   "metadata": {
    "collapsed": false,
    "ExecuteTime": {
     "end_time": "2024-01-04T03:30:26.932938500Z",
     "start_time": "2024-01-04T03:30:26.889638200Z"
    }
   },
   "id": "753d3cb6ea94bd61"
  },
  {
   "cell_type": "markdown",
   "source": [
    "打印每个numpy标量类型的最小值和最大值？"
   ],
   "metadata": {
    "collapsed": false
   },
   "id": "78662f2aa3dc206d"
  },
  {
   "cell_type": "code",
   "execution_count": 63,
   "outputs": [
    {
     "name": "stdout",
     "output_type": "stream",
     "text": [
      "-128\n",
      "127\n",
      "-2147483648\n",
      "2147483647\n",
      "-9223372036854775808\n",
      "9223372036854775807\n",
      "-3.4028235e+38\n",
      "3.4028235e+38\n",
      "1.1920929e-07\n",
      "-1.7976931348623157e+308\n",
      "1.7976931348623157e+308\n",
      "2.220446049250313e-16\n"
     ]
    }
   ],
   "source": [
    "for dtype in [np.int8, np.int32, np.int64]:\n",
    "    print(np.iinfo(dtype).min)\n",
    "    print(np.iinfo(dtype).max)\n",
    "for dtype in [np.float32, np.float64]:\n",
    "    print(np.finfo(dtype).min)\n",
    "    print(np.finfo(dtype).max)\n",
    "    print(np.finfo(dtype).eps)"
   ],
   "metadata": {
    "collapsed": false,
    "ExecuteTime": {
     "end_time": "2024-01-04T03:31:37.877062400Z",
     "start_time": "2024-01-04T03:31:37.844656500Z"
    }
   },
   "id": "ccf01b9e165fcb8c"
  },
  {
   "cell_type": "markdown",
   "source": [
    "如何打印一个数组中的所有数值?"
   ],
   "metadata": {
    "collapsed": false
   },
   "id": "84844e6f0165f32c"
  },
  {
   "cell_type": "code",
   "execution_count": 65,
   "outputs": [
    {
     "name": "stdout",
     "output_type": "stream",
     "text": [
      "[[0. 0. 0. 0. 0. 0. 0. 0. 0. 0. 0. 0. 0. 0. 0. 0.]\n",
      " [0. 0. 0. 0. 0. 0. 0. 0. 0. 0. 0. 0. 0. 0. 0. 0.]\n",
      " [0. 0. 0. 0. 0. 0. 0. 0. 0. 0. 0. 0. 0. 0. 0. 0.]\n",
      " [0. 0. 0. 0. 0. 0. 0. 0. 0. 0. 0. 0. 0. 0. 0. 0.]\n",
      " [0. 0. 0. 0. 0. 0. 0. 0. 0. 0. 0. 0. 0. 0. 0. 0.]\n",
      " [0. 0. 0. 0. 0. 0. 0. 0. 0. 0. 0. 0. 0. 0. 0. 0.]\n",
      " [0. 0. 0. 0. 0. 0. 0. 0. 0. 0. 0. 0. 0. 0. 0. 0.]\n",
      " [0. 0. 0. 0. 0. 0. 0. 0. 0. 0. 0. 0. 0. 0. 0. 0.]\n",
      " [0. 0. 0. 0. 0. 0. 0. 0. 0. 0. 0. 0. 0. 0. 0. 0.]\n",
      " [0. 0. 0. 0. 0. 0. 0. 0. 0. 0. 0. 0. 0. 0. 0. 0.]\n",
      " [0. 0. 0. 0. 0. 0. 0. 0. 0. 0. 0. 0. 0. 0. 0. 0.]\n",
      " [0. 0. 0. 0. 0. 0. 0. 0. 0. 0. 0. 0. 0. 0. 0. 0.]\n",
      " [0. 0. 0. 0. 0. 0. 0. 0. 0. 0. 0. 0. 0. 0. 0. 0.]\n",
      " [0. 0. 0. 0. 0. 0. 0. 0. 0. 0. 0. 0. 0. 0. 0. 0.]\n",
      " [0. 0. 0. 0. 0. 0. 0. 0. 0. 0. 0. 0. 0. 0. 0. 0.]\n",
      " [0. 0. 0. 0. 0. 0. 0. 0. 0. 0. 0. 0. 0. 0. 0. 0.]]\n"
     ]
    }
   ],
   "source": [
    "#np.set_printoptions(threshold=np.nan)\n",
    "a = np.zeros((16,16))\n",
    "print(a)"
   ],
   "metadata": {
    "collapsed": false,
    "ExecuteTime": {
     "end_time": "2024-01-04T03:32:22.519086600Z",
     "start_time": "2024-01-04T03:32:22.514624600Z"
    }
   },
   "id": "8c3929352682a747"
  },
  {
   "cell_type": "markdown",
   "source": [
    "给定标量时，如何找到数组中最接近标量的值？"
   ],
   "metadata": {
    "collapsed": false
   },
   "id": "461fffd0c13757cd"
  },
  {
   "cell_type": "code",
   "execution_count": 66,
   "outputs": [
    {
     "name": "stdout",
     "output_type": "stream",
     "text": [
      "25\n"
     ]
    }
   ],
   "source": [
    "a = np.arange(100)\n",
    "v = np.random.uniform(0,100)\n",
    "index = (np.abs(a-v)).argmin()\n",
    "print(a[index])"
   ],
   "metadata": {
    "collapsed": false,
    "ExecuteTime": {
     "end_time": "2024-01-04T03:32:55.255133800Z",
     "start_time": "2024-01-04T03:32:55.224648100Z"
    }
   },
   "id": "b7f93ae24a3cf2ff"
  },
  {
   "cell_type": "markdown",
   "source": [
    "思考形状如(100,2)的随机向量，求出点与点的距离\n",
    "提示：np.atleast_2d, T, np.sqrt"
   ],
   "metadata": {
    "collapsed": false
   },
   "id": "7604d8416fcd8c12"
  },
  {
   "cell_type": "code",
   "execution_count": 67,
   "outputs": [
    {
     "name": "stdout",
     "output_type": "stream",
     "text": [
      "[[0.         0.58040718 0.01307117 ... 0.60362801 0.6979324  0.5561549 ]\n",
      " [0.58040718 0.         0.57059013 ... 0.45335117 0.12950576 0.34496026]\n",
      " [0.01307117 0.57059013 0.         ... 0.59059071 0.68888173 0.54314843]\n",
      " ...\n",
      " [0.60362801 0.45335117 0.59059071 ... 0.         0.55535655 0.10902126]\n",
      " [0.6979324  0.12950576 0.68888173 ... 0.55535655 0.         0.45063233]\n",
      " [0.5561549  0.34496026 0.54314843 ... 0.10902126 0.45063233 0.        ]]\n"
     ]
    }
   ],
   "source": [
    "a = np.random.random((100,2))\n",
    "x,y = np.atleast_2d(a[:,0], a[:,1])\n",
    "d = np.sqrt((x-x.T)**2 + (y-y.T)**2)\n",
    "print(d)"
   ],
   "metadata": {
    "collapsed": false,
    "ExecuteTime": {
     "end_time": "2024-01-04T03:34:37.649572700Z",
     "start_time": "2024-01-04T03:34:37.619230900Z"
    }
   },
   "id": "cfa53949ec893df"
  },
  {
   "cell_type": "markdown",
   "source": [
    "使用Scipy库更加快速的计算"
   ],
   "metadata": {
    "collapsed": false
   },
   "id": "ae554b452d4b9b3a"
  },
  {
   "cell_type": "code",
   "execution_count": 68,
   "outputs": [],
   "source": [
    "import scipy.spatial"
   ],
   "metadata": {
    "collapsed": false,
    "ExecuteTime": {
     "end_time": "2024-01-04T03:34:42.868862200Z",
     "start_time": "2024-01-04T03:34:42.828703300Z"
    }
   },
   "id": "71bc63ab93b694f5"
  },
  {
   "cell_type": "code",
   "execution_count": 69,
   "outputs": [
    {
     "name": "stdout",
     "output_type": "stream",
     "text": [
      "[[0.         0.58040718 0.01307117 ... 0.60362801 0.6979324  0.5561549 ]\n",
      " [0.58040718 0.         0.57059013 ... 0.45335117 0.12950576 0.34496026]\n",
      " [0.01307117 0.57059013 0.         ... 0.59059071 0.68888173 0.54314843]\n",
      " ...\n",
      " [0.60362801 0.45335117 0.59059071 ... 0.         0.55535655 0.10902126]\n",
      " [0.6979324  0.12950576 0.68888173 ... 0.55535655 0.         0.45063233]\n",
      " [0.5561549  0.34496026 0.54314843 ... 0.10902126 0.45063233 0.        ]]\n"
     ]
    }
   ],
   "source": [
    "d = scipy.spatial.distance.cdist(a,a)\n",
    "print(d)"
   ],
   "metadata": {
    "collapsed": false,
    "ExecuteTime": {
     "end_time": "2024-01-04T03:35:17.389522800Z",
     "start_time": "2024-01-04T03:35:17.357895300Z"
    }
   },
   "id": "b45ea4f393e908e5"
  },
  {
   "cell_type": "markdown",
   "source": [
    "如何将一个32位的浮点数(float)转换为对应的整数(integer)?"
   ],
   "metadata": {
    "collapsed": false
   },
   "id": "380c832d9f6af2be"
  },
  {
   "cell_type": "code",
   "execution_count": 70,
   "outputs": [
    {
     "name": "stdout",
     "output_type": "stream",
     "text": [
      "[0. 1. 2. 3. 4. 5. 6. 7. 8. 9.]\n",
      "[0 1 2 3 4 5 6 7 8 9]\n"
     ]
    }
   ],
   "source": [
    "a = np.arange(10, dtype=np.float32)\n",
    "print(a)\n",
    "a = a.astype(np.int32, copy=False)\n",
    "print(a)"
   ],
   "metadata": {
    "collapsed": false,
    "ExecuteTime": {
     "end_time": "2024-01-04T03:36:28.731754200Z",
     "start_time": "2024-01-04T03:36:28.701608400Z"
    }
   },
   "id": "14fa43a789813900"
  },
  {
   "cell_type": "markdown",
   "source": [
    "如何读取以下文件？"
   ],
   "metadata": {
    "collapsed": false
   },
   "id": "c43a157dc01ab07f"
  },
  {
   "cell_type": "code",
   "execution_count": 71,
   "outputs": [
    {
     "ename": "FileNotFoundError",
     "evalue": "missing.dat not found.",
     "output_type": "error",
     "traceback": [
      "\u001B[1;31m---------------------------------------------------------------------------\u001B[0m",
      "\u001B[1;31mFileNotFoundError\u001B[0m                         Traceback (most recent call last)",
      "Cell \u001B[1;32mIn[71], line 1\u001B[0m\n\u001B[1;32m----> 1\u001B[0m z\u001B[38;5;241m=\u001B[39mnp\u001B[38;5;241m.\u001B[39mgenfromtxt(\u001B[38;5;124m\"\u001B[39m\u001B[38;5;124mmissing.dat\u001B[39m\u001B[38;5;124m\"\u001B[39m,delimiter\u001B[38;5;241m=\u001B[39m\u001B[38;5;124m\"\u001B[39m\u001B[38;5;124m,\u001B[39m\u001B[38;5;124m\"\u001B[39m)\n\u001B[0;32m      2\u001B[0m \u001B[38;5;28mprint\u001B[39m(z)\n",
      "File \u001B[1;32m~\\.conda\\envs\\Numpy\\Lib\\site-packages\\numpy\\lib\\npyio.py:1980\u001B[0m, in \u001B[0;36mgenfromtxt\u001B[1;34m(fname, dtype, comments, delimiter, skip_header, skip_footer, converters, missing_values, filling_values, usecols, names, excludelist, deletechars, replace_space, autostrip, case_sensitive, defaultfmt, unpack, usemask, loose, invalid_raise, max_rows, encoding, ndmin, like)\u001B[0m\n\u001B[0;32m   1978\u001B[0m     fname \u001B[38;5;241m=\u001B[39m os_fspath(fname)\n\u001B[0;32m   1979\u001B[0m \u001B[38;5;28;01mif\u001B[39;00m \u001B[38;5;28misinstance\u001B[39m(fname, \u001B[38;5;28mstr\u001B[39m):\n\u001B[1;32m-> 1980\u001B[0m     fid \u001B[38;5;241m=\u001B[39m np\u001B[38;5;241m.\u001B[39mlib\u001B[38;5;241m.\u001B[39m_datasource\u001B[38;5;241m.\u001B[39mopen(fname, \u001B[38;5;124m'\u001B[39m\u001B[38;5;124mrt\u001B[39m\u001B[38;5;124m'\u001B[39m, encoding\u001B[38;5;241m=\u001B[39mencoding)\n\u001B[0;32m   1981\u001B[0m     fid_ctx \u001B[38;5;241m=\u001B[39m contextlib\u001B[38;5;241m.\u001B[39mclosing(fid)\n\u001B[0;32m   1982\u001B[0m \u001B[38;5;28;01melse\u001B[39;00m:\n",
      "File \u001B[1;32m~\\.conda\\envs\\Numpy\\Lib\\site-packages\\numpy\\lib\\_datasource.py:193\u001B[0m, in \u001B[0;36mopen\u001B[1;34m(path, mode, destpath, encoding, newline)\u001B[0m\n\u001B[0;32m    156\u001B[0m \u001B[38;5;250m\u001B[39m\u001B[38;5;124;03m\"\"\"\u001B[39;00m\n\u001B[0;32m    157\u001B[0m \u001B[38;5;124;03mOpen `path` with `mode` and return the file object.\u001B[39;00m\n\u001B[0;32m    158\u001B[0m \n\u001B[1;32m   (...)\u001B[0m\n\u001B[0;32m    189\u001B[0m \n\u001B[0;32m    190\u001B[0m \u001B[38;5;124;03m\"\"\"\u001B[39;00m\n\u001B[0;32m    192\u001B[0m ds \u001B[38;5;241m=\u001B[39m DataSource(destpath)\n\u001B[1;32m--> 193\u001B[0m \u001B[38;5;28;01mreturn\u001B[39;00m ds\u001B[38;5;241m.\u001B[39mopen(path, mode, encoding\u001B[38;5;241m=\u001B[39mencoding, newline\u001B[38;5;241m=\u001B[39mnewline)\n",
      "File \u001B[1;32m~\\.conda\\envs\\Numpy\\Lib\\site-packages\\numpy\\lib\\_datasource.py:533\u001B[0m, in \u001B[0;36mDataSource.open\u001B[1;34m(self, path, mode, encoding, newline)\u001B[0m\n\u001B[0;32m    530\u001B[0m     \u001B[38;5;28;01mreturn\u001B[39;00m _file_openers[ext](found, mode\u001B[38;5;241m=\u001B[39mmode,\n\u001B[0;32m    531\u001B[0m                               encoding\u001B[38;5;241m=\u001B[39mencoding, newline\u001B[38;5;241m=\u001B[39mnewline)\n\u001B[0;32m    532\u001B[0m \u001B[38;5;28;01melse\u001B[39;00m:\n\u001B[1;32m--> 533\u001B[0m     \u001B[38;5;28;01mraise\u001B[39;00m \u001B[38;5;167;01mFileNotFoundError\u001B[39;00m(\u001B[38;5;124mf\u001B[39m\u001B[38;5;124m\"\u001B[39m\u001B[38;5;132;01m{\u001B[39;00mpath\u001B[38;5;132;01m}\u001B[39;00m\u001B[38;5;124m not found.\u001B[39m\u001B[38;5;124m\"\u001B[39m)\n",
      "\u001B[1;31mFileNotFoundError\u001B[0m: missing.dat not found."
     ]
    }
   ],
   "source": [
    "z=np.genfromtxt(\"missing.dat\",delimiter=\",\")\n",
    "print(z)"
   ],
   "metadata": {
    "collapsed": false,
    "ExecuteTime": {
     "end_time": "2024-01-04T03:37:04.402512100Z",
     "start_time": "2024-01-04T03:37:04.141518200Z"
    }
   },
   "id": "5bb69cb0f47a2fb6"
  },
  {
   "cell_type": "markdown",
   "source": [
    "numpy数组枚举(enumerate)的等价操作\n"
   ],
   "metadata": {
    "collapsed": false
   },
   "id": "bfee0fe24ed5a68e"
  },
  {
   "cell_type": "code",
   "execution_count": 72,
   "outputs": [
    {
     "name": "stdout",
     "output_type": "stream",
     "text": [
      "(0, 0) 0\n",
      "(0, 1) 1\n",
      "(0, 2) 2\n",
      "(1, 0) 3\n",
      "(1, 1) 4\n",
      "(1, 2) 5\n",
      "(2, 0) 6\n",
      "(2, 1) 7\n",
      "(2, 2) 8\n",
      "(0, 0) 0\n",
      "(0, 1) 1\n",
      "(0, 2) 2\n",
      "(1, 0) 3\n",
      "(1, 1) 4\n",
      "(1, 2) 5\n",
      "(2, 0) 6\n",
      "(2, 1) 7\n",
      "(2, 2) 8\n"
     ]
    }
   ],
   "source": [
    "a = np.arange(9).reshape(3,3)\n",
    "for index, value in np.ndenumerate(a):\n",
    "    print(index, value)\n",
    "for index in np.ndindex(a.shape):\n",
    "    print(index, a[index])"
   ],
   "metadata": {
    "collapsed": false,
    "ExecuteTime": {
     "end_time": "2024-01-04T03:38:20.019102500Z",
     "start_time": "2024-01-04T03:38:19.983798400Z"
    }
   },
   "id": "a105505aec1d91cc"
  },
  {
   "cell_type": "markdown",
   "source": [
    "构建一个二维高斯矩阵"
   ],
   "metadata": {
    "collapsed": false
   },
   "id": "1ac9570f0386d6a3"
  },
  {
   "cell_type": "code",
   "execution_count": 73,
   "outputs": [
    {
     "name": "stdout",
     "output_type": "stream",
     "text": [
      "[[0.36787944 0.44822088 0.51979489 0.57375342 0.60279818 0.60279818\n",
      "  0.57375342 0.51979489 0.44822088 0.36787944]\n",
      " [0.44822088 0.54610814 0.63331324 0.69905581 0.73444367 0.73444367\n",
      "  0.69905581 0.63331324 0.54610814 0.44822088]\n",
      " [0.51979489 0.63331324 0.73444367 0.81068432 0.85172308 0.85172308\n",
      "  0.81068432 0.73444367 0.63331324 0.51979489]\n",
      " [0.57375342 0.69905581 0.81068432 0.89483932 0.9401382  0.9401382\n",
      "  0.89483932 0.81068432 0.69905581 0.57375342]\n",
      " [0.60279818 0.73444367 0.85172308 0.9401382  0.98773022 0.98773022\n",
      "  0.9401382  0.85172308 0.73444367 0.60279818]\n",
      " [0.60279818 0.73444367 0.85172308 0.9401382  0.98773022 0.98773022\n",
      "  0.9401382  0.85172308 0.73444367 0.60279818]\n",
      " [0.57375342 0.69905581 0.81068432 0.89483932 0.9401382  0.9401382\n",
      "  0.89483932 0.81068432 0.69905581 0.57375342]\n",
      " [0.51979489 0.63331324 0.73444367 0.81068432 0.85172308 0.85172308\n",
      "  0.81068432 0.73444367 0.63331324 0.51979489]\n",
      " [0.44822088 0.54610814 0.63331324 0.69905581 0.73444367 0.73444367\n",
      "  0.69905581 0.63331324 0.54610814 0.44822088]\n",
      " [0.36787944 0.44822088 0.51979489 0.57375342 0.60279818 0.60279818\n",
      "  0.57375342 0.51979489 0.44822088 0.36787944]]\n"
     ]
    }
   ],
   "source": [
    "X,Y = np.meshgrid(np.linspace(-1,1,10), np.linspace(-1,1,10))\n",
    "D = np.sqrt(X*X+Y*Y)\n",
    "sigma, mu = 1.0, 0.0\n",
    "G = np.exp(-((D-mu)**2/(2.0*sigma**2)))\n",
    "print(G)"
   ],
   "metadata": {
    "collapsed": false,
    "ExecuteTime": {
     "end_time": "2024-01-04T03:40:00.242622400Z",
     "start_time": "2024-01-04T03:40:00.191997400Z"
    }
   },
   "id": "db61485a892005e3"
  },
  {
   "cell_type": "code",
   "execution_count": null,
   "outputs": [],
   "source": [],
   "metadata": {
    "collapsed": false
   },
   "id": "50c30290544f0e83"
  }
 ],
 "metadata": {
  "kernelspec": {
   "display_name": "Python 3",
   "language": "python",
   "name": "python3"
  },
  "language_info": {
   "codemirror_mode": {
    "name": "ipython",
    "version": 2
   },
   "file_extension": ".py",
   "mimetype": "text/x-python",
   "name": "python",
   "nbconvert_exporter": "python",
   "pygments_lexer": "ipython2",
   "version": "2.7.6"
  }
 },
 "nbformat": 4,
 "nbformat_minor": 5
}
