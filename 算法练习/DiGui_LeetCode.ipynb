{
 "cells": [
  {
   "cell_type": "markdown",
   "source": [
    "LeetCOde509\n",
    "**描述**：给定一个整数 $n$。\n",
    "\n",
    "**要求**：计算第 $n$ 个斐波那契数。\n",
    "\n",
    "**说明**：\n",
    "\n",
    "- 斐波那契数列的定义如下：\n",
    "  - $f(0) = 0, f(1) = 1$。\n",
    "  - $f(n) = f(n - 1) + f(n - 2)$，其中 $n > 1$。\n",
    "\n",
    "\n",
    "**示例**：\n",
    "\n",
    "- 示例 1：\n",
    "\n",
    "```python\n",
    "输入：n = 2\n",
    "输出：1\n",
    "解释：F(2) = F(1) + F(0) = 1 + 0 = 1\n",
    "```\n",
    "\n",
    "- 示例 2：\n",
    "- 输入：n = 3\n",
    "输出：2\n",
    "解释：F(3) = F(2) + F(1) = 1 + 1 = 2"
   ],
   "metadata": {
    "collapsed": false
   },
   "id": "f52a05fbe8ad17fb"
  },
  {
   "cell_type": "code",
   "execution_count": 4,
   "outputs": [
    {
     "name": "stdout",
     "output_type": "stream",
     "text": [
      "55\n"
     ]
    }
   ],
   "source": [
    "class Solution:\n",
    "    def fib(self, n: int) -> int:\n",
    "        if n == 0:\n",
    "            return 0\n",
    "        if n == 1:\n",
    "            return 1\n",
    "        return self.fib(n - 1) + self.fib(n - 2)\n",
    "\n",
    "MySolution = Solution()\n",
    "k = MySolution.fib(10)\n",
    "print(k)\n"
   ],
   "metadata": {
    "collapsed": false,
    "ExecuteTime": {
     "end_time": "2024-03-06T12:29:07.711764200Z",
     "start_time": "2024-03-06T12:29:07.708746400Z"
    }
   },
   "id": "7679daa6f1e4aa4c"
  },
  {
   "cell_type": "markdown",
   "source": [
    "**描述**：给定一个二叉树的根节点 $root$。\n",
    "\n",
    "**要求**：找出该二叉树的最大深度。\n",
    "\n",
    "**说明**：\n",
    "\n",
    "- **二叉树的深度**：根节点到最远叶子节点的最长路径上的节点数。\n",
    "- **叶子节点**：没有子节点的节点。\n",
    "\n",
    "**示例**：\n",
    "\n",
    "- 示例 1："
   ],
   "metadata": {
    "collapsed": false
   },
   "id": "63ee0dcf2606e2d5"
  },
  {
   "cell_type": "markdown",
   "source": [
    "输入：[3,9,20,null,null,15,7]\n",
    "对应二叉树\n",
    "            3\n",
    "           / \\\n",
    "          9  20\n",
    "            /  \\\n",
    "           15   7\n",
    "输出：3\n",
    "解释：该二叉树的最大深度为 3"
   ],
   "metadata": {
    "collapsed": false
   },
   "id": "fbdf619b73fdd3c7"
  },
  {
   "cell_type": "code",
   "execution_count": null,
   "outputs": [],
   "source": [],
   "metadata": {
    "collapsed": false
   },
   "id": "6b23195bb8bf8cd6"
  }
 ],
 "metadata": {
  "kernelspec": {
   "display_name": "Python 3",
   "language": "python",
   "name": "python3"
  },
  "language_info": {
   "codemirror_mode": {
    "name": "ipython",
    "version": 2
   },
   "file_extension": ".py",
   "mimetype": "text/x-python",
   "name": "python",
   "nbconvert_exporter": "python",
   "pygments_lexer": "ipython2",
   "version": "2.7.6"
  }
 },
 "nbformat": 4,
 "nbformat_minor": 5
}
