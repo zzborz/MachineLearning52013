{
 "cells": [
  {
   "cell_type": "markdown",
   "source": [
    "第三章、python基础"
   ],
   "metadata": {
    "collapsed": false
   },
   "id": "ea57171240cddb5e"
  },
  {
   "cell_type": "markdown",
   "source": [
    "3.1---Python的输出\n"
   ],
   "metadata": {
    "collapsed": false
   },
   "id": "3608239dd11b2943"
  },
  {
   "cell_type": "code",
   "execution_count": null,
   "outputs": [],
   "source": [],
   "metadata": {
    "collapsed": false,
    "ExecuteTime": {
     "end_time": "2024-01-06T02:32:55.575593700Z",
     "start_time": "2024-01-06T02:32:55.575091Z"
    }
   },
   "id": "bf332916a888ad6c"
  },
  {
   "cell_type": "markdown",
   "source": [
    "3.2——Python的数据类型\n",
    "int、float、bool、complex(复数）\n",
    "在Python中浮点类型只有单精度float，不要以为保留两位小数的数就是双精度类型(double),在Python中无论你是多少位小数它的数据类型都是float。"
   ],
   "metadata": {
    "collapsed": false
   },
   "id": "dafad737f4192185"
  },
  {
   "cell_type": "code",
   "execution_count": null,
   "outputs": [],
   "source": [],
   "metadata": {
    "collapsed": false,
    "ExecuteTime": {
     "end_time": "2024-01-06T02:35:16.079362600Z",
     "start_time": "2024-01-06T02:35:16.075864Z"
    }
   },
   "id": "f7744b4623556549"
  },
  {
   "cell_type": "markdown",
   "source": [
    "3.2.1——算术运算符\n",
    "加法\n",
    "减法\n",
    "乘法\n",
    "除法\n",
    "取模\n",
    "次方\n",
    "整除"
   ],
   "metadata": {
    "collapsed": false
   },
   "id": "5433305f9e668f7"
  },
  {
   "cell_type": "code",
   "execution_count": null,
   "outputs": [],
   "source": [],
   "metadata": {
    "collapsed": false,
    "ExecuteTime": {
     "end_time": "2024-01-06T02:36:59.770618Z",
     "start_time": "2024-01-06T02:36:59.767083Z"
    }
   },
   "id": "9a20864a327715b3"
  },
  {
   "cell_type": "markdown",
   "source": [
    "3.3——Python的数据类型(string)\n",
    "换行转义字符\\n"
   ],
   "metadata": {
    "collapsed": false
   },
   "id": "ba68a9ce2fa9adb5"
  },
  {
   "cell_type": "code",
   "execution_count": null,
   "outputs": [],
   "source": [],
   "metadata": {
    "collapsed": false,
    "ExecuteTime": {
     "end_time": "2024-01-06T02:39:25.067706900Z",
     "start_time": "2024-01-06T02:39:25.064198200Z"
    }
   },
   "id": "c36a041a22755d8f"
  },
  {
   "cell_type": "markdown",
   "source": [
    "3、4——Python数据类型(List)\n",
    "变量名称=['数值',数值]"
   ],
   "metadata": {
    "collapsed": false
   },
   "id": "dbbe179c31abef46"
  },
  {
   "cell_type": "code",
   "execution_count": 1,
   "outputs": [],
   "source": [
    "#创建两个列表\n",
    "\n",
    "#输出指定列表被切割后的指定数据\n",
    "\n",
    "#输出指定索引搜索的数据\n",
    "\n",
    "#修改列表中指定数据，即可以直接修改\n",
    "\n",
    "#append()函数用于在制定列表末尾添加新数值\n",
    "\n",
    "#移除a列表中指定索引数据\n",
    "\n",
    "#len()函数用于统计列表数据个数\n",
    "\n",
    "#生成一个嵌入式列表"
   ],
   "metadata": {
    "collapsed": false,
    "ExecuteTime": {
     "end_time": "2024-01-06T02:45:13.278008100Z",
     "start_time": "2024-01-06T02:45:13.272998Z"
    }
   },
   "id": "9386dba0ac2ed27f"
  },
  {
   "cell_type": "markdown",
   "source": [
    "3.5——Python数据类型(Tuple:元组）\n",
    "元组的语法与列表差不多，不同之处在于元组使用小括号(),且括号中的元素不能被修改，创建元组可以不需要括号，而列表需要中括号[]\n",
    "变量名称=('元素',元素）\n",
    "变量名称=\"元素\",\"元素\""
   ],
   "metadata": {
    "collapsed": false
   },
   "id": "53f01d9f23ee9726"
  },
  {
   "cell_type": "code",
   "execution_count": 2,
   "outputs": [],
   "source": [
    "#创建两个元组\n",
    "\n",
    "#创建一个空的元组\n",
    "\n",
    "#元组与其他元组合并\n",
    "\n",
    "#删除元组\n",
    "\n",
    "#输出元组内的数据个数\n",
    "\n",
    "#复制输出\n",
    "\n",
    "#判断元素是否存在\n",
    "\n",
    "#元组的内置函数\n",
    "#相互结合\n",
    "\n",
    "#强制转换为元组\n",
    "\n",
    "#输出列表内数据个数\n",
    "\n",
    "#max()、min()\n"
   ],
   "metadata": {
    "collapsed": false,
    "ExecuteTime": {
     "end_time": "2024-01-06T02:55:01.628622100Z",
     "start_time": "2024-01-06T02:55:01.623484600Z"
    }
   },
   "id": "20ba3488f357f7ef"
  },
  {
   "cell_type": "markdown",
   "source": [
    "3.6——Python数据类型(Set:集合)\n",
    "Set（集合）数据类型它和Tuple、List一样都属于复合数据类型，而且集合数据类型是一种无序不重复元素的序列\n",
    "在Python中，我们可以使用大括号｛｝或内置函数Set()来创建一个集合(创建一个空集合必须用Set()函数，不可用｛｝，因为｛｝实质是创建一个空的字典"
   ],
   "metadata": {
    "collapsed": false
   },
   "id": "5de51ee5b0585577"
  },
  {
   "cell_type": "code",
   "execution_count": 3,
   "outputs": [],
   "source": [
    "#创建集合\n",
    "\n",
    "#运用Set()函数创建集合b\n",
    "\n",
    "#判断元素是否在集合内\n",
    "\n",
    "#集合运算符\n"
   ],
   "metadata": {
    "collapsed": false,
    "ExecuteTime": {
     "end_time": "2024-01-06T03:07:21.280171700Z",
     "start_time": "2024-01-06T03:07:21.273182Z"
    }
   },
   "id": "9bc56f24465ac056"
  },
  {
   "cell_type": "markdown",
   "source": [
    "减号(-)的作用就是输出a集合中b集合内没有的元素，竖线符号(|)主要输出集合a或b中包含的元素，逻辑符号(&:and,和，拉丁美语为et)就是要输出集合a和b中共同包含的元素，乘方(^)主要输出不同时包含于a和b的元素。"
   ],
   "metadata": {
    "collapsed": false
   },
   "id": "139d4ce154c2cb6"
  },
  {
   "cell_type": "code",
   "execution_count": 4,
   "outputs": [],
   "source": [
    "#add()和updata()\n"
   ],
   "metadata": {
    "collapsed": false,
    "ExecuteTime": {
     "end_time": "2024-01-06T03:08:03.459157600Z",
     "start_time": "2024-01-06T03:08:03.452843300Z"
    }
   },
   "id": "1aef2cc514f7dea4"
  },
  {
   "cell_type": "code",
   "execution_count": 6,
   "outputs": [],
   "source": [
    "#remove()、discard()、pop(){pop会随机删除某些元素}、clear()\n"
   ],
   "metadata": {
    "collapsed": false,
    "ExecuteTime": {
     "end_time": "2024-01-06T03:09:19.986498100Z",
     "start_time": "2024-01-06T03:09:19.978997500Z"
    }
   },
   "id": "d904123fef447259"
  },
  {
   "cell_type": "markdown",
   "source": [
    "3.7——Python数据类型(dictionary)\n",
    "在Python中，字典是另外一种数据储存的可变容器，而且可以存储任何数据类型的数据值对象。\n",
    "在上一节提及到，创建一个空字典需要用大括号｛｝，在字典中每一个值对用冒号，且每个值需要逗号（,）分隔。\n",
    "a = {key1:value1,key2:value2,key3:value3}\n",
    "dictionary{key->1value1\n",
    "\t\t\t\tkey2->value2\n",
    "\t\t\t\tkey3->value3\n"
   ],
   "metadata": {
    "collapsed": false
   },
   "id": "b8dcb6e211b1f62a"
  },
  {
   "cell_type": "code",
   "execution_count": 7,
   "outputs": [],
   "source": [
    "#创建字典\n",
    "\n",
    "#输出字典\n",
    "\n",
    "#修改字典\n",
    "\n",
    "#清除字典数据 clear()、del()\n"
   ],
   "metadata": {
    "collapsed": false,
    "ExecuteTime": {
     "end_time": "2024-01-06T03:13:56.199434Z",
     "start_time": "2024-01-06T03:13:56.193202900Z"
    }
   },
   "id": "e9c9d5ce63148e1f"
  },
  {
   "cell_type": "markdown",
   "source": [],
   "metadata": {
    "collapsed": false
   },
   "id": "ea546dcf6dd7ac98"
  }
 ],
 "metadata": {
  "kernelspec": {
   "display_name": "Python 3",
   "language": "python",
   "name": "python3"
  },
  "language_info": {
   "codemirror_mode": {
    "name": "ipython",
    "version": 2
   },
   "file_extension": ".py",
   "mimetype": "text/x-python",
   "name": "python",
   "nbconvert_exporter": "python",
   "pygments_lexer": "ipython2",
   "version": "2.7.6"
  }
 },
 "nbformat": 4,
 "nbformat_minor": 5
}
