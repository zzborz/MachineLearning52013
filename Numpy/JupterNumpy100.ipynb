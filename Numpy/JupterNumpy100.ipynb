{
 "cells": [
  {
   "cell_type": "markdown",
   "source": [
    "1、第一个练习题\n",
    "Import the numpy package under the name np"
   ],
   "metadata": {
    "collapsed": false
   },
   "id": "794d9b4733391d81"
  },
  {
   "cell_type": "code",
   "execution_count": 1,
   "outputs": [],
   "source": [
    "import numpy as np"
   ],
   "metadata": {
    "collapsed": false,
    "ExecuteTime": {
     "end_time": "2024-01-05T01:57:47.966369900Z",
     "start_time": "2024-01-05T01:57:47.912367100Z"
    }
   },
   "id": "2ad703313c14c18c"
  },
  {
   "cell_type": "markdown",
   "source": [
    "2、打印numpy的版本和配置说明\n",
    "Print the numpy version and the configuration\n"
   ],
   "metadata": {
    "collapsed": false
   },
   "id": "bb8c3c0ca951685f"
  },
  {
   "cell_type": "code",
   "execution_count": 2,
   "outputs": [
    {
     "name": "stdout",
     "output_type": "stream",
     "text": [
      "1.26.3\n",
      "Build Dependencies:\n",
      "  blas:\n",
      "    detection method: pkgconfig\n",
      "    found: true\n",
      "    include directory: /c/opt/64/include\n",
      "    lib directory: /c/opt/64/lib\n",
      "    name: openblas64\n",
      "    openblas configuration: USE_64BITINT=1 DYNAMIC_ARCH=1 DYNAMIC_OLDER= NO_CBLAS=\n",
      "      NO_LAPACK= NO_LAPACKE= NO_AFFINITY=1 USE_OPENMP= SKYLAKEX MAX_THREADS=2\n",
      "    pc file directory: C:/opt/64/lib/pkgconfig\n",
      "    version: 0.3.23.dev\n",
      "  lapack:\n",
      "    detection method: internal\n",
      "    found: true\n",
      "    include directory: unknown\n",
      "    lib directory: unknown\n",
      "    name: dep2628220032720\n",
      "    openblas configuration: unknown\n",
      "    pc file directory: unknown\n",
      "    version: 1.26.3\n",
      "Compilers:\n",
      "  c:\n",
      "    commands: cl\n",
      "    linker: link\n",
      "    name: msvc\n",
      "    version: 19.29.30153\n",
      "  c++:\n",
      "    commands: cl\n",
      "    linker: link\n",
      "    name: msvc\n",
      "    version: 19.29.30153\n",
      "  cython:\n",
      "    commands: cython\n",
      "    linker: cython\n",
      "    name: cython\n",
      "    version: 3.0.7\n",
      "Machine Information:\n",
      "  build:\n",
      "    cpu: x86_64\n",
      "    endian: little\n",
      "    family: x86_64\n",
      "    system: windows\n",
      "  host:\n",
      "    cpu: x86_64\n",
      "    endian: little\n",
      "    family: x86_64\n",
      "    system: windows\n",
      "Python Information:\n",
      "  path: C:\\Users\\runneradmin\\AppData\\Local\\Temp\\cibw-run-frm2g0yv\\cp311-win_amd64\\build\\venv\\Scripts\\python.exe\n",
      "  version: '3.11'\n",
      "SIMD Extensions:\n",
      "  baseline:\n",
      "  - SSE\n",
      "  - SSE2\n",
      "  - SSE3\n",
      "  found:\n",
      "  - SSSE3\n",
      "  - SSE41\n",
      "  - POPCNT\n",
      "  - SSE42\n",
      "  - AVX\n",
      "  - F16C\n",
      "  - FMA3\n",
      "  - AVX2\n",
      "  not found:\n",
      "  - AVX512F\n",
      "  - AVX512CD\n",
      "  - AVX512_SKX\n",
      "  - AVX512_CLX\n",
      "  - AVX512_CNL\n",
      "  - AVX512_ICL\n",
      "\n",
      "None\n"
     ]
    }
   ],
   "source": [
    "print(np.__version__)\n",
    "print(np.show_config())"
   ],
   "metadata": {
    "collapsed": false,
    "ExecuteTime": {
     "end_time": "2024-01-05T01:58:58.115783700Z",
     "start_time": "2024-01-05T01:58:58.100267800Z"
    }
   },
   "id": "f1efbc8c085a1267"
  },
  {
   "cell_type": "markdown",
   "source": [
    "3、创建一个长度为10的空向量\n",
    "Create a null vector of size 10"
   ],
   "metadata": {
    "collapsed": false
   },
   "id": "25dd18f04b13faf6"
  },
  {
   "cell_type": "code",
   "execution_count": 3,
   "outputs": [
    {
     "name": "stdout",
     "output_type": "stream",
     "text": [
      "[0. 0. 0. 0. 0. 0. 0. 0. 0. 0.]\n"
     ]
    }
   ],
   "source": [
    "Z = np.zeros(10)\n",
    "print(Z)"
   ],
   "metadata": {
    "collapsed": false,
    "ExecuteTime": {
     "end_time": "2024-01-05T01:59:57.936800100Z",
     "start_time": "2024-01-05T01:59:57.930322600Z"
    }
   },
   "id": "102bc75ebe52849d"
  },
  {
   "cell_type": "markdown",
   "source": [
    "4、如何找到任何一个数组的内存大小？\n",
    "How to find the memory size of any array"
   ],
   "metadata": {
    "collapsed": false
   },
   "id": "5fa103bded57f7ce"
  },
  {
   "cell_type": "code",
   "execution_count": 4,
   "outputs": [
    {
     "name": "stdout",
     "output_type": "stream",
     "text": [
      "800 bytes\n"
     ]
    }
   ],
   "source": [
    "Z = np.zeros((10,10))\n",
    "print(\"%d bytes\" % (Z.size * Z.itemsize))"
   ],
   "metadata": {
    "collapsed": false,
    "ExecuteTime": {
     "end_time": "2024-01-05T02:02:14.483873800Z",
     "start_time": "2024-01-05T02:02:14.476874400Z"
    }
   },
   "id": "c31a73b0b8a7ac2"
  },
  {
   "cell_type": "markdown",
   "source": [
    "5、如何从命令行得到numpy中add函数的说明文档？\n",
    "How to get the documentation of the numpy add function from the command line?"
   ],
   "metadata": {
    "collapsed": false
   },
   "id": "3ba04517f0f3c804"
  },
  {
   "cell_type": "code",
   "execution_count": 8,
   "outputs": [
    {
     "name": "stdout",
     "output_type": "stream",
     "text": [
      "add(x1, x2, /, out=None, *, where=True, casting='same_kind', order='K', dtype=None, subok=True[, signature, extobj])\n",
      "\n",
      "Add arguments element-wise.\n",
      "\n",
      "Parameters\n",
      "----------\n",
      "x1, x2 : array_like\n",
      "    The arrays to be added.\n",
      "    If ``x1.shape != x2.shape``, they must be broadcastable to a common\n",
      "    shape (which becomes the shape of the output).\n",
      "out : ndarray, None, or tuple of ndarray and None, optional\n",
      "    A location into which the result is stored. If provided, it must have\n",
      "    a shape that the inputs broadcast to. If not provided or None,\n",
      "    a freshly-allocated array is returned. A tuple (possible only as a\n",
      "    keyword argument) must have length equal to the number of outputs.\n",
      "where : array_like, optional\n",
      "    This condition is broadcast over the input. At locations where the\n",
      "    condition is True, the `out` array will be set to the ufunc result.\n",
      "    Elsewhere, the `out` array will retain its original value.\n",
      "    Note that if an uninitialized `out` array is created via the default\n",
      "    ``out=None``, locations within it where the condition is False will\n",
      "    remain uninitialized.\n",
      "**kwargs\n",
      "    For other keyword-only arguments, see the\n",
      "    :ref:`ufunc docs <ufuncs.kwargs>`.\n",
      "\n",
      "Returns\n",
      "-------\n",
      "add : ndarray or scalar\n",
      "    The sum of `x1` and `x2`, element-wise.\n",
      "    This is a scalar if both `x1` and `x2` are scalars.\n",
      "\n",
      "Notes\n",
      "-----\n",
      "Equivalent to `x1` + `x2` in terms of array broadcasting.\n",
      "\n",
      "Examples\n",
      "--------\n",
      ">>> np.add(1.0, 4.0)\n",
      "5.0\n",
      ">>> x1 = np.arange(9.0).reshape((3, 3))\n",
      ">>> x2 = np.arange(3.0)\n",
      ">>> np.add(x1, x2)\n",
      "array([[  0.,   2.,   4.],\n",
      "       [  3.,   5.,   7.],\n",
      "       [  6.,   8.,  10.]])\n",
      "\n",
      "The ``+`` operator can be used as a shorthand for ``np.add`` on ndarrays.\n",
      "\n",
      ">>> x1 = np.arange(9.0).reshape((3, 3))\n",
      ">>> x2 = np.arange(3.0)\n",
      ">>> x1 + x2\n",
      "array([[ 0.,  2.,  4.],\n",
      "       [ 3.,  5.,  7.],\n",
      "       [ 6.,  8., 10.]])\n",
      "None\n"
     ]
    }
   ],
   "source": [
    "print(np.info(np.add))"
   ],
   "metadata": {
    "collapsed": false,
    "ExecuteTime": {
     "end_time": "2024-01-05T02:10:20.299936700Z",
     "start_time": "2024-01-05T02:10:20.291958200Z"
    }
   },
   "id": "1e9a0c06e5e9c322"
  },
  {
   "cell_type": "markdown",
   "source": [
    "6、创建一个长度为10并且除了第五个值为1的空向量\n",
    "Create a null vector of size 10 but the fifth value which is 1"
   ],
   "metadata": {
    "collapsed": false
   },
   "id": "4d4e83c1253acdf3"
  },
  {
   "cell_type": "code",
   "execution_count": 9,
   "outputs": [
    {
     "name": "stdout",
     "output_type": "stream",
     "text": [
      "[0. 0. 0. 0. 1. 0. 0. 0. 0. 0.]\n"
     ]
    }
   ],
   "source": [
    "Z = np.zeros(10)\n",
    "Z[4] = 1\n",
    "print(Z)"
   ],
   "metadata": {
    "collapsed": false,
    "ExecuteTime": {
     "end_time": "2024-01-05T02:13:03.196485700Z",
     "start_time": "2024-01-05T02:13:03.189484300Z"
    }
   },
   "id": "25b395d41efc8366"
  },
  {
   "cell_type": "markdown",
   "source": [
    "7、创建一个值域范围从10到49的向量\n",
    "Create a vector with values ranging from 10 to 49"
   ],
   "metadata": {
    "collapsed": false
   },
   "id": "ef9083b3517aab54"
  },
  {
   "cell_type": "code",
   "execution_count": 10,
   "outputs": [
    {
     "name": "stdout",
     "output_type": "stream",
     "text": [
      "[10 11 12 13 14 15 16 17 18 19 20 21 22 23 24 25 26 27 28 29 30 31 32 33\n",
      " 34 35 36 37 38 39 40 41 42 43 44 45 46 47 48 49]\n"
     ]
    }
   ],
   "source": [
    "Z = np.arange(10,50)\n",
    "print(Z)"
   ],
   "metadata": {
    "collapsed": false,
    "ExecuteTime": {
     "end_time": "2024-01-05T02:13:30.983316900Z",
     "start_time": "2024-01-05T02:13:30.976409700Z"
    }
   },
   "id": "bcdcd3d087816fd2"
  },
  {
   "cell_type": "markdown",
   "source": [
    "8、反转一个向量（第一个元素变为最后一个）\n",
    "Reverse a vector (first element becomes last)"
   ],
   "metadata": {
    "collapsed": false
   },
   "id": "70ed7ad76e5bc05d"
  },
  {
   "cell_type": "code",
   "execution_count": 11,
   "outputs": [
    {
     "name": "stdout",
     "output_type": "stream",
     "text": [
      "[49 48 47 46 45 44 43 42 41 40 39 38 37 36 35 34 33 32 31 30 29 28 27 26\n",
      " 25 24 23 22 21 20 19 18 17 16 15 14 13 12 11 10  9  8  7  6  5  4  3  2\n",
      "  1  0]\n"
     ]
    }
   ],
   "source": [
    "Z = np.arange(50)\n",
    "Z = Z[::-1]\n",
    "print(Z)"
   ],
   "metadata": {
    "collapsed": false,
    "ExecuteTime": {
     "end_time": "2024-01-05T02:14:12.518366800Z",
     "start_time": "2024-01-05T02:14:12.507381800Z"
    }
   },
   "id": "b104ae397dd0597"
  },
  {
   "cell_type": "markdown",
   "source": [
    "9、创建一个 3x3 并且值从0到8的矩阵\n",
    "Create a 3x3 matrix with values ranging from 0 to 8"
   ],
   "metadata": {
    "collapsed": false
   },
   "id": "a6eb3d6391bc699b"
  },
  {
   "cell_type": "code",
   "execution_count": 12,
   "outputs": [
    {
     "name": "stdout",
     "output_type": "stream",
     "text": [
      "[[0 1 2]\n",
      " [3 4 5]\n",
      " [6 7 8]]\n"
     ]
    }
   ],
   "source": [
    "Z = np.arange(9).reshape(3,3)\n",
    "print(Z)    "
   ],
   "metadata": {
    "collapsed": false,
    "ExecuteTime": {
     "end_time": "2024-01-05T02:14:58.724209600Z",
     "start_time": "2024-01-05T02:14:58.717210200Z"
    }
   },
   "id": "f6d9f8e82f97c13d"
  },
  {
   "cell_type": "markdown",
   "source": [
    "10、找到数组[1,2,0,0,4,0]中非0元素的位置索引\n",
    "Find indices of non-zero elements from [1,2,0,0,4,0]"
   ],
   "metadata": {
    "collapsed": false
   },
   "id": "e2276c12d8bf0fca"
  },
  {
   "cell_type": "code",
   "execution_count": 13,
   "outputs": [
    {
     "name": "stdout",
     "output_type": "stream",
     "text": [
      "(array([0, 1, 4], dtype=int64),)\n"
     ]
    }
   ],
   "source": [
    "nz = np.nonzero([1,2,0,0,4,0])\n",
    "print(nz)"
   ],
   "metadata": {
    "collapsed": false,
    "ExecuteTime": {
     "end_time": "2024-01-05T02:15:53.709108100Z",
     "start_time": "2024-01-05T02:15:53.697452800Z"
    }
   },
   "id": "37163fa23510619"
  },
  {
   "cell_type": "markdown",
   "source": [
    "11、创建一个 3x3 的单位矩阵\n",
    "Create a 3x3 identity matrix"
   ],
   "metadata": {
    "collapsed": false
   },
   "id": "150aa85ada5389fa"
  },
  {
   "cell_type": "code",
   "execution_count": 14,
   "outputs": [
    {
     "name": "stdout",
     "output_type": "stream",
     "text": [
      "[[1. 0. 0.]\n",
      " [0. 1. 0.]\n",
      " [0. 0. 1.]]\n"
     ]
    }
   ],
   "source": [
    "Z = np.eye(3)\n",
    "print(Z)"
   ],
   "metadata": {
    "collapsed": false,
    "ExecuteTime": {
     "end_time": "2024-01-05T02:16:32.876116500Z",
     "start_time": "2024-01-05T02:16:32.867741900Z"
    }
   },
   "id": "2e256745053f9ad0"
  },
  {
   "cell_type": "markdown",
   "source": [
    "12、创建一个 3x3x3的随机数组\n",
    "Create a 3x3x3 array with random values"
   ],
   "metadata": {
    "collapsed": false
   },
   "id": "cae7d404e5dd45de"
  },
  {
   "cell_type": "code",
   "execution_count": 15,
   "outputs": [
    {
     "name": "stdout",
     "output_type": "stream",
     "text": [
      "[[[0.16439793 0.74098635 0.64148834]\n",
      "  [0.7086287  0.6990867  0.68394322]\n",
      "  [0.64793924 0.49618518 0.28145432]]\n",
      "\n",
      " [[0.36533429 0.78591791 0.08454797]\n",
      "  [0.21048565 0.05685744 0.366874  ]\n",
      "  [0.01117033 0.98880973 0.18786354]]\n",
      "\n",
      " [[0.97681962 0.9473831  0.11073802]\n",
      "  [0.25436919 0.34246229 0.65772318]\n",
      "  [0.42725607 0.78911408 0.57506478]]]\n"
     ]
    }
   ],
   "source": [
    "Z = np.random.random((3,3,3))\n",
    "print(Z)"
   ],
   "metadata": {
    "collapsed": false,
    "ExecuteTime": {
     "end_time": "2024-01-05T06:11:43.326913700Z",
     "start_time": "2024-01-05T06:11:43.324413900Z"
    }
   },
   "id": "d08a25762b96c767"
  },
  {
   "cell_type": "markdown",
   "source": [
    "13、创建一个 10x10 的随机数组并找到它的最大值和最小值\n",
    "Create a 10x10 array with random values and find the minimum and maximum values"
   ],
   "metadata": {
    "collapsed": false
   },
   "id": "9b7930d92341159c"
  },
  {
   "cell_type": "code",
   "execution_count": 16,
   "outputs": [
    {
     "name": "stdout",
     "output_type": "stream",
     "text": [
      "0.013116676452693765 0.9909415873359648\n"
     ]
    }
   ],
   "source": [
    "Z = np.random.random((10,10))\n",
    "Zmin, Zmax = Z.min(), Z.max()\n",
    "print(Zmin, Zmax)"
   ],
   "metadata": {
    "collapsed": false,
    "ExecuteTime": {
     "end_time": "2024-01-05T06:20:21.610969200Z",
     "start_time": "2024-01-05T06:20:21.598986300Z"
    }
   },
   "id": "9c053b9b67b09a38"
  },
  {
   "cell_type": "markdown",
   "source": [
    "14、创建一个长度为30的随机向量并找到它的平均值\n",
    "Create a random vector of size 30 and find the mean value"
   ],
   "metadata": {
    "collapsed": false
   },
   "id": "b2b779eb20e8ed20"
  },
  {
   "cell_type": "code",
   "execution_count": 17,
   "outputs": [
    {
     "name": "stdout",
     "output_type": "stream",
     "text": [
      "0.48137462199473724\n"
     ]
    }
   ],
   "source": [
    "Z = np.random.random(30)\n",
    "m = Z.mean()\n",
    "print(m)"
   ],
   "metadata": {
    "collapsed": false,
    "ExecuteTime": {
     "end_time": "2024-01-05T07:06:41.700633200Z",
     "start_time": "2024-01-05T07:06:41.692848600Z"
    }
   },
   "id": "a77d5824d2121d29"
  },
  {
   "cell_type": "markdown",
   "source": [
    "15、创建一个二维数组，其中边界值为1，其余值为0\n",
    "Create a 2d array with 1 on the border and 0 inside\n"
   ],
   "metadata": {
    "collapsed": false
   },
   "id": "6330040e1e31ea91"
  },
  {
   "cell_type": "code",
   "execution_count": 18,
   "outputs": [
    {
     "name": "stdout",
     "output_type": "stream",
     "text": [
      "[[1. 1. 1. 1. 1. 1. 1. 1. 1. 1.]\n",
      " [1. 0. 0. 0. 0. 0. 0. 0. 0. 1.]\n",
      " [1. 0. 0. 0. 0. 0. 0. 0. 0. 1.]\n",
      " [1. 0. 0. 0. 0. 0. 0. 0. 0. 1.]\n",
      " [1. 0. 0. 0. 0. 0. 0. 0. 0. 1.]\n",
      " [1. 0. 0. 0. 0. 0. 0. 0. 0. 1.]\n",
      " [1. 0. 0. 0. 0. 0. 0. 0. 0. 1.]\n",
      " [1. 0. 0. 0. 0. 0. 0. 0. 0. 1.]\n",
      " [1. 0. 0. 0. 0. 0. 0. 0. 0. 1.]\n",
      " [1. 1. 1. 1. 1. 1. 1. 1. 1. 1.]]\n"
     ]
    }
   ],
   "source": [
    "Z = np.ones((10,10))\n",
    "Z[1:-1,1:-1] = 0   \n",
    "print(Z)"
   ],
   "metadata": {
    "collapsed": false,
    "ExecuteTime": {
     "end_time": "2024-01-05T07:07:14.556429500Z",
     "start_time": "2024-01-05T07:07:14.546245Z"
    }
   },
   "id": "a087a97205f17829"
  },
  {
   "cell_type": "markdown",
   "source": [
    "16、对于一个存在在数组，如何添加一个用0填充的边界？\n",
    "How to add a border (filled with 0's) around an existing array?\n",
    "numpy.pad(array, pad_width, mode='constant', constant_values=0)\n",
    "array: 要填充的数组。\n",
    "pad_width: 每个轴两侧要填充的宽度。可以是一个整数，表示每个轴两侧填充相同的宽度，也可以是一个长度为 (n, m) 的元组，其中 n 表示数组的维度，m 表示每个轴两侧的填充宽度。\n",
    "mode: 填充模式，默认是 'constant'。其他常见的填充模式包括 'edge'、'linear_ramp' 等。\n",
    "constant_values: 在 'constant' 填充模式下使用的常数值，默认为 0。"
   ],
   "metadata": {
    "collapsed": false
   },
   "id": "98df50bf58f45036"
  },
  {
   "cell_type": "code",
   "execution_count": 19,
   "outputs": [
    {
     "name": "stdout",
     "output_type": "stream",
     "text": [
      "[[0. 0. 0. 0. 0. 0. 0.]\n",
      " [0. 1. 1. 1. 1. 1. 0.]\n",
      " [0. 1. 1. 1. 1. 1. 0.]\n",
      " [0. 1. 1. 1. 1. 1. 0.]\n",
      " [0. 1. 1. 1. 1. 1. 0.]\n",
      " [0. 1. 1. 1. 1. 1. 0.]\n",
      " [0. 0. 0. 0. 0. 0. 0.]]\n"
     ]
    }
   ],
   "source": [
    "Z = np.ones((5,5))\n",
    "Z = np.pad(Z, pad_width=1, mode='constant', constant_values=0)\n",
    "print(Z)"
   ],
   "metadata": {
    "collapsed": false,
    "ExecuteTime": {
     "end_time": "2024-01-05T07:07:51.354819700Z",
     "start_time": "2024-01-05T07:07:51.347819800Z"
    }
   },
   "id": "7e1ff62c34abf2d0"
  },
  {
   "cell_type": "markdown",
   "source": [
    "17、以下表达式运行的结果分别是什么？\n",
    "What is the result of the following expression?"
   ],
   "metadata": {
    "collapsed": false
   },
   "id": "e6134b03ef1e984b"
  },
  {
   "cell_type": "code",
   "execution_count": 20,
   "outputs": [
    {
     "name": "stdout",
     "output_type": "stream",
     "text": [
      "nan\n",
      "False\n",
      "False\n",
      "nan\n",
      "True\n",
      "False\n"
     ]
    }
   ],
   "source": [
    "print(0 * np.nan)\n",
    "print(np.nan == np.nan)\n",
    "print(np.inf > np.nan)\n",
    "print(np.nan - np.nan)\n",
    "print(np.nan in set([np.nan]))\n",
    "print(0.3 == 3 * 0.1)"
   ],
   "metadata": {
    "collapsed": false,
    "ExecuteTime": {
     "end_time": "2024-01-05T07:11:13.797094200Z",
     "start_time": "2024-01-05T07:11:13.787108600Z"
    }
   },
   "id": "d594b7fcbd4be11d"
  },
  {
   "cell_type": "markdown",
   "source": [
    "18、创建一个 5x5的矩阵，并设置值1,2,3,4落在其对角线下方位置\n",
    "Create a 5x5 matrix with values 1,2,3,4 just below the diagonal\n",
    "Z = np.diag(1+np.arange(4),k=1):k=1表示对角线的上一行"
   ],
   "metadata": {
    "collapsed": false
   },
   "id": "71dfa52949cbc765"
  },
  {
   "cell_type": "code",
   "execution_count": 23,
   "outputs": [
    {
     "name": "stdout",
     "output_type": "stream",
     "text": [
      "[[0 1 0 0 0]\n",
      " [0 0 2 0 0]\n",
      " [0 0 0 3 0]\n",
      " [0 0 0 0 4]\n",
      " [0 0 0 0 0]]\n"
     ]
    }
   ],
   "source": [
    "Z = np.diag(1+np.arange(4),k=-1)\n",
    "print(Z)"
   ],
   "metadata": {
    "collapsed": false,
    "ExecuteTime": {
     "end_time": "2024-01-05T07:13:14.539501300Z",
     "start_time": "2024-01-05T07:13:14.530299100Z"
    }
   },
   "id": "4e11a6e2f1fde5aa"
  },
  {
   "cell_type": "markdown",
   "source": [
    "19、创建一个8x8 的矩阵，并且设置成棋盘样式\n",
    "Create a 8x8 matrix and fill it with a checkerboard pattern\n",
    "1::2：这是对数组的第一个维度（行）进行切片，从索引 1 开始，以步长为 2 进行切片。这意味着选择数组中的每隔一个元素的行，从第二行开始。\n",
    "::2：这是对数组的第二个维度（列）进行切片，以步长为 2 进行切片。这意味着选择每隔一个元素的列。"
   ],
   "metadata": {
    "collapsed": false
   },
   "id": "c5b09014c4f6649b"
  },
  {
   "cell_type": "code",
   "execution_count": 24,
   "outputs": [
    {
     "name": "stdout",
     "output_type": "stream",
     "text": [
      "[[0 1 0 1 0 1 0 1]\n",
      " [1 0 1 0 1 0 1 0]\n",
      " [0 1 0 1 0 1 0 1]\n",
      " [1 0 1 0 1 0 1 0]\n",
      " [0 1 0 1 0 1 0 1]\n",
      " [1 0 1 0 1 0 1 0]\n",
      " [0 1 0 1 0 1 0 1]\n",
      " [1 0 1 0 1 0 1 0]]\n"
     ]
    }
   ],
   "source": [
    "Z = np.zeros((8,8),dtype=int)\n",
    "Z[1::2,::2] = 1\n",
    "Z[::2,1::2] = 1\n",
    "print(Z)"
   ],
   "metadata": {
    "collapsed": false,
    "ExecuteTime": {
     "end_time": "2024-01-05T07:14:30.026709700Z",
     "start_time": "2024-01-05T07:14:30.013210200Z"
    }
   },
   "id": "3d0c4e7b05cf265"
  },
  {
   "cell_type": "markdown",
   "source": [
    "20、考虑一个 (6,7,8) 形状的数组，其第100个元素的索引(x,y,z)是什么？\n",
    "Consider a (6,7,8) shape array, what is the index (x,y,z) of the 100th element?\n",
    "np.unravel_index 是 NumPy 中的一个函数，用于将扁平索引（一维索引）转换为多维索引。\n",
    "扁平索引的计算遵循按照数组形状展开的顺序。在这个例子中，第一个维度 (6) 中的元素有 6 个，第二个维度 (7) 中的元素有 7 个，第三个维度 (8) 中的元素有 8 个。因此，扁平索引 100 对应的多维索引可以计算为：\n",
    "\n",
    "第一个维度：100 // (7 * 8) = 1\n",
    "第二个维度：(100 % (7 * 8)) // 8 = 5\n",
    "第三个维度：(100 % (7 * 8)) % 8 = 4\n",
    "所以，np.unravel_index(100, (6, 7, 8)) 的结果是 (1, 5, 4)"
   ],
   "metadata": {
    "collapsed": false
   },
   "id": "affc95131e4064fc"
  },
  {
   "cell_type": "code",
   "execution_count": 25,
   "outputs": [
    {
     "name": "stdout",
     "output_type": "stream",
     "text": [
      "(1, 5, 4)\n"
     ]
    }
   ],
   "source": [
    "print(np.unravel_index(100,(6,7,8)))"
   ],
   "metadata": {
    "collapsed": false,
    "ExecuteTime": {
     "end_time": "2024-01-05T07:18:20.345132500Z",
     "start_time": "2024-01-05T07:18:20.332911500Z"
    }
   },
   "id": "af06f83f158dfdd3"
  },
  {
   "cell_type": "markdown",
   "source": [
    "21、用tile函数去创建一个 8x8的棋盘样式矩阵\n",
    "Create a checkerboard 8x8 matrix using the tile function\n",
    "numpy.tile(A, reps)\n",
    "np.tile 是 NumPy 中用于复制数组的函数。它的主要作用是沿指定的轴向复制数组。A: 要复制的数组。\n",
    "reps: 每个维度上复制的次数。可以是一个整数，表示在每个维度上都复制相同的次数；也可以是一个元组，其中每个元素表示在相应的维度上复制的次数。"
   ],
   "metadata": {
    "collapsed": false
   },
   "id": "8554e0e205585a5c"
  },
  {
   "cell_type": "code",
   "execution_count": 26,
   "outputs": [
    {
     "name": "stdout",
     "output_type": "stream",
     "text": [
      "[[0 1 0 1 0 1 0 1]\n",
      " [1 0 1 0 1 0 1 0]\n",
      " [0 1 0 1 0 1 0 1]\n",
      " [1 0 1 0 1 0 1 0]\n",
      " [0 1 0 1 0 1 0 1]\n",
      " [1 0 1 0 1 0 1 0]\n",
      " [0 1 0 1 0 1 0 1]\n",
      " [1 0 1 0 1 0 1 0]]\n"
     ]
    }
   ],
   "source": [
    "Z = np.tile( np.array([[0,1],[1,0]]), (4,4))\n",
    "print(Z)"
   ],
   "metadata": {
    "collapsed": false,
    "ExecuteTime": {
     "end_time": "2024-01-05T07:21:57.983627400Z",
     "start_time": "2024-01-05T07:21:57.968651600Z"
    }
   },
   "id": "ddbe664007cdb780"
  },
  {
   "cell_type": "code",
   "execution_count": null,
   "outputs": [],
   "source": [],
   "metadata": {
    "collapsed": false
   },
   "id": "cf685cd535a95491"
  }
 ],
 "metadata": {
  "kernelspec": {
   "display_name": "Python 3",
   "language": "python",
   "name": "python3"
  },
  "language_info": {
   "codemirror_mode": {
    "name": "ipython",
    "version": 2
   },
   "file_extension": ".py",
   "mimetype": "text/x-python",
   "name": "python",
   "nbconvert_exporter": "python",
   "pygments_lexer": "ipython2",
   "version": "2.7.6"
  }
 },
 "nbformat": 4,
 "nbformat_minor": 5
}
